{
 "cells": [
  {
   "cell_type": "markdown",
   "metadata": {},
   "source": [
    "# Civil Air Patrol and Georegistration\n",
    "\n",
    "In the previous session, we saw how a series of 2D images taken of a 3D scene can be used to recover the 3D information, by exploiting geometric constraints of the cameras. Now the question is, how do we take this technique and apply it in a disaster response scenario?\n",
    "\n",
    "We are going to look at a specific case study, using images from the Low Altitude Disaster Imagery (LADI) dataset, taken by the Civil Air Patrol (CAP). As we work with this dataset, keep in mind the two major questions from the previous lecture:\n",
    "\n",
    "- _What_ is in an image (e.g. debris, buildings, etc.)?\n",
    "- _Where_ are these things located _in 3D space_ ?"
   ]
  },
  {
   "cell_type": "markdown",
   "metadata": {},
   "source": [
    "## Civil Air Patrol\n",
    "Civil Air Patrol (CAP) is the civilian auxiliary of the United States Air Force (USAF). The origins of CAP date back to the pre-World War II era. As the Axis powers became a growing threat to the world, civilian aviators in the United States feared that the government would shut down general aviation as a precautionary measure. These aviators thus had to prove to the federal government that civilian aviation was not only not a danger, but actually a benefit to the war effort. \n",
    "\n",
    "As a result of these efforts, two separate programs were created. One was a Civilian Pilot Training Program, intended to increase the available people that could operate an aircraft should the need to deploy additional troops arise. The second actually called for the organization of civilian aviators and opened the door to the creation of CAP. \n",
    "\n",
    "Once the United States entered WWII proper, CAP began to embark a plethora of activities, some of which are still practiced today. They continued to do cadet education programs. They also began patrolling the coasts and borders. Finally, they started in 1942 conducting search and rescue (SAR) missions. These missions were a resounding success, and one of the main components of CAP today.\n",
    "\n",
    "CAP has five congressionally mandated missions:\n",
    "\n",
    "(1) To provide an organization to—\n",
    "(A) encourage and aid citizens of the United States in contributing their efforts, services, and resources in developing aviation and in maintaining air supremacy; and\n",
    "(B) encourage and develop by example the voluntary contribution of private citizens to the public welfare.\n",
    "\n",
    "(2) To provide aviation education and training especially to its senior and cadet members.\n",
    "\n",
    "(3) To encourage and foster civil aviation in local communities.\n",
    "\n",
    "(4) To provide an organization of private citizens with adequate facilities to assist in meeting local and national emergencies.\n",
    "\n",
    "(5) To assist the Department of the Air Force in fulfilling its noncombat programs and missions.\n",
    "\n",
    "source: https://www.law.cornell.edu/uscode/text/36/40302\n",
    "\n",
    "CAP's main series of missions revolve around emergency response. CAP is involved in roughly 85% of all SAR missions in the United States and its territories. After natural disasters, CAP is responsible for assessing damage in affected communities, delivering supplies, providing transportation, in addition to its usual SAR missions. \n",
    "\n",
    "https://kvia.com/health/2020/06/18/el-paso-civil-air-patrol-flying-virus-tests-to-labs-in-money-saving-effort-for-texas/\n",
    "\n",
    "https://www.southernminn.com/article_2c5739a5-826f-53bb-a658-922fb1aa1627.html\n",
    "\n",
    "Part of their emergency programming is taking aerial imagery of affected areas. This imagery is the highest resolution, most timely imagery that we have available of a post-disaster situation. Even the highest resolution satellite imagery is often either limited in their geographical coverage, not very timely or occluded by clouds. These are images taken of Puerto Rico after Hurricane Maria in 2017.\n",
    "\n",
    "<img src=\"notebook_images/A0008AP-_932ec345-75a9-4005-9879-da06ba0af37e.jpg\" width=\"500\"  />\n",
    "\n",
    "<img src=\"notebook_images/A0016-52_e71b5e09-ec3c-4ea6-8ac8-b9d1e4b714cb.jpg\" width=\"500\"  />\n",
    "\n",
    "<img src=\"notebook_images/A0016-54_f5273b60-dec4-4617-8f01-d67f16001dcb.jpg\" width=\"500\"  />\n",
    "\n",
    "CAP has taken hundreds of thousands of images of disaster-affected areas in the past decades. And yet, even though it is some of the best imagery we have access to, it is rarely if ever used in practice. _Why?_\n",
    "\n",
    "## The LADI dataset\n",
    "Part of the effort in making CAP imagery more useful is trying to make more sense of the content of the images. To that end, researchers at MIT Lincoln Laboratory released the Low Altitude Disaster Imagery (LADI) dataset. This dataset contains hundreds of thousands of CAP images that have crowdsourced labels corresponding to infrastructure, environment and damage categories. This begins to answer the first of the two questions we set out initially. We'll start working on these labels tomorrow. For now, we will solely focus on the images themselves.\n",
    "\n",
    "<img src=\"notebook_images/labels.png\" width=\"500\"  />\n",
    "\n",
    "What are some of the limitations of this dataset?"
   ]
  },
  {
   "cell_type": "markdown",
   "metadata": {},
   "source": [
    "### Exercise\n",
    "\n",
    "Imagine you have acquired $200,000 to implement some improvement to the way CAP takes aerial imagery. Hurricane season starts in five months, so whatever improvements need to be implemented by then. Separate into your breakout rooms and answer the following questions:\n",
    "- What specific hurdles to using CAP images do you want to address? Identify at least two.\n",
    "- Design a proposal to address the challenges you identified above, taking into account the budget and time constraints. Improvements can be of any sort (technical, political, social, etc).\n",
    "- What are the advantages and disadvantages of implementing your proposal?\n",
    "- Identify at least three different stakeholder groups in this situation. What are their specific needs? How does your proposal address these needs? How does your proposal fall short?\n",
    "- Draw out a budget breakdown and a timeline, as well as a breakdown of which stakeholders you are prioritizing and why. Prepare to present these at 1:30pm."
   ]
  },
  {
   "cell_type": "code",
   "execution_count": 22,
   "metadata": {},
   "outputs": [
    {
     "name": "stdout",
     "output_type": "stream",
     "text": [
      "3.11.6\n"
     ]
    }
   ],
   "source": []
  },
  {
   "cell_type": "markdown",
   "metadata": {},
   "source": [
    "## 3D Reconstruction in a Real World Reference Frame\n",
    "\n",
    "If we want to answer the second of our two guiding questions, we must be able to make a translation between where something is in the image and its location in real world coordinates. Let's stake stock of what tools we have thus far. We spent a good amount of time discussing structure from motion as a way to reconstruct a 3D scene from 2D images. Recall the limitations of this approach:\n",
    "- There need to be more than one image in a sequence.\n",
    "- Sequential images need to have enough overlap that there are common features.\n",
    "- At least one pair of sequential images must have sufficient translation such that the problem is not ill-posed.\n",
    "- The reconstruction is given in an arbitrary reference frame up to scale. \n",
    "\n",
    "What does that last point mean? The arbitrary reference part refers to the fact that the origin and the axes are aligned with the first camera. The up to scale part means that all distances are preserved up to a factor $\\lambda$. Therefore the scene retains the general shape, but the size of the scene is not conserved. Without additional information, it is impossible to know how the reconstructed scene relates to any other reference frame, and translating the reconstruction to real world coordinates is impossible.\n",
    "\n",
    "However, recall that we do typically have at least a coarse estimate of the camera's GPS coordinates, therefore we have estimates of the distances between sequential cameras. Consider a reconstruction of just two images. Then a good estimate of $\\lambda$ is:\n",
    "\n",
    "$\\lambda = \\frac{D_{GPS}}{D_{reconstruction}}$\n",
    "\n",
    "This is slightly more complicated for more than two images. Typically, a solver will initialize the camera positions at their GPS coordinates and use bundle adjustment to correct the errors in the GPS measurements, although certainly there's more than one way to do this.\n",
    "\n",
    "Let's give this a shot and see what happens! As it so happens, OpenSfM is already equipped to handle GPS coordinates. "
   ]
  },
  {
   "cell_type": "code",
   "execution_count": 1,
   "metadata": {},
   "outputs": [
    {
     "name": "stdout",
     "output_type": "stream",
     "text": [
      "Jupyter environment detected. Enabling Open3D WebVisualizer.\n",
      "[Open3D INFO] WebRTC GUI backend enabled.\n",
      "[Open3D INFO] WebRTCWindowSystem: HTTP handshake server disabled.\n"
     ]
    }
   ],
   "source": [
    "import sys\n",
    "import open3d as o3d\n",
    "import json\n",
    "import numpy as np\n",
    "import pandas as pd\n",
    "from matplotlib import pyplot as plt\n",
    "import cv2\n",
    "import os\n",
    "import plotly.graph_objects as go"
   ]
  },
  {
   "cell_type": "code",
   "execution_count": 2,
   "metadata": {},
   "outputs": [
    {
     "name": "stdout",
     "output_type": "stream",
     "text": [
      "usage: opensfm_main.py [-h] command ...\n",
      "\n",
      "positional arguments:\n",
      "  command               Command to run\n",
      "    extract_metadata    Extract metadata from images' EXIF tag\n",
      "    detect_features     Compute features for all images\n",
      "    match_features      Match features between image pairs\n",
      "    create_rig          Create rig by creating `rig_cameras.json` and\n",
      "                        `rig_assignments.json` files.\n",
      "    create_tracks       Link matches pair-wise matches into tracks\n",
      "    reconstruct         Compute the reconstruction\n",
      "    reconstruct_from_prior\n",
      "                        Reconstruct from prior reconstruction\n",
      "    bundle              Bundle a reconstruction\n",
      "    mesh                Add delaunay meshes to the reconstruction\n",
      "    undistort           Save radially undistorted images\n",
      "    compute_depthmaps   Compute depthmap\n",
      "    compute_statistics  Compute statistics and save them in the stats folder\n",
      "    export_ply          Export reconstruction to PLY format\n",
      "    export_openmvs      Export reconstruction to openMVS format\n",
      "    export_visualsfm    Export reconstruction to NVM_V3 format from VisualSfM\n",
      "    export_pmvs         Export reconstruction to PMVS\n",
      "    export_bundler      Export reconstruction to bundler format\n",
      "    export_colmap       Export reconstruction to colmap format\n",
      "    export_geocoords    Export reconstructions in geographic coordinates\n",
      "    export_report       Export a nice report based on previously generated\n",
      "                        statistics\n",
      "    extend_reconstruction\n",
      "                        Extend a reconstruction\n",
      "    create_submodels    Split the dataset into smaller submodels\n",
      "    align_submodels     Align submodel reconstructions\n",
      "\n",
      "options:\n",
      "  -h, --help            show this help message and exit\n"
     ]
    },
    {
     "name": "stderr",
     "output_type": "stream",
     "text": [
      "2024-07-05 17:02:10,465 INFO: Loading existing EXIF for image_url_pr_10_13_sample_12.jpg\n",
      "2024-07-05 17:02:10,482 INFO: Loading existing EXIF for image_url_pr_10_13_sample_11.jpg\n",
      "2024-07-05 17:02:10,483 INFO: Loading existing EXIF for image_url_pr_10_13_sample_13.jpg\n",
      "2024-07-05 17:02:10,483 INFO: Loading existing EXIF for image_url_pr_10_13_sample_07.jpg\n",
      "2024-07-05 17:02:10,483 INFO: Loading existing EXIF for image_url_pr_10_13_sample_08.jpg\n",
      "2024-07-05 17:02:12,084 INFO: Planning to use 12700.800000000001 MB of RAM for both processing queue and parallel processing.\n",
      "2024-07-05 17:02:12,084 INFO: Scale-space expected size of a single image : 23.8125 MB\n",
      "2024-07-05 17:02:12,084 INFO: Expecting to queue at most 123 images while parallel processing of 1 images.\n",
      "2024-07-05 17:02:12,084 INFO: Reading data for image image_url_pr_10_13_sample_12.jpg (queue-size=0)\n",
      "2024-07-05 17:02:12,504 INFO: Finished reading images\n",
      "2024-07-05 17:02:12,504 INFO: Skip recomputing ROOT_HAHOG features for image image_url_pr_10_13_sample_12.jpg\n",
      "2024-07-05 17:02:12,505 INFO: Reading data for image image_url_pr_10_13_sample_11.jpg (queue-size=0)\n",
      "2024-07-05 17:02:12,911 INFO: Finished reading images\n",
      "2024-07-05 17:02:12,911 INFO: Skip recomputing ROOT_HAHOG features for image image_url_pr_10_13_sample_11.jpg\n",
      "2024-07-05 17:02:12,912 INFO: Reading data for image image_url_pr_10_13_sample_13.jpg (queue-size=0)\n",
      "2024-07-05 17:02:13,313 INFO: Finished reading images\n",
      "2024-07-05 17:02:13,314 INFO: Skip recomputing ROOT_HAHOG features for image image_url_pr_10_13_sample_13.jpg\n",
      "2024-07-05 17:02:13,314 INFO: Reading data for image image_url_pr_10_13_sample_07.jpg (queue-size=0)\n",
      "2024-07-05 17:02:13,718 INFO: Finished reading images\n",
      "2024-07-05 17:02:13,718 INFO: Skip recomputing ROOT_HAHOG features for image image_url_pr_10_13_sample_07.jpg\n",
      "2024-07-05 17:02:13,719 INFO: Reading data for image image_url_pr_10_13_sample_08.jpg (queue-size=0)\n",
      "2024-07-05 17:02:14,119 INFO: Finished reading images\n",
      "2024-07-05 17:02:14,119 INFO: Skip recomputing ROOT_HAHOG features for image image_url_pr_10_13_sample_08.jpg\n",
      "2024-07-05 17:02:15,713 INFO: Matching 6 image pairs\n",
      "2024-07-05 17:02:15,718 INFO: Computing pair matching with 1 processes\n",
      "2024-07-05 17:02:15,732 DEBUG: No segmentation for image_url_pr_10_13_sample_07.jpg, no features masked.\n",
      "2024-07-05 17:02:15,745 DEBUG: No segmentation for image_url_pr_10_13_sample_08.jpg, no features masked.\n",
      "2024-07-05 17:02:16,346 DEBUG: Matching image_url_pr_10_13_sample_07.jpg and image_url_pr_10_13_sample_08.jpg.  Matcher: FLANN (symmetric) T-desc: 0.623 T-robust: 0.002 T-total: 0.626 Matches: 724 Robust: 709 Success: True\n",
      "2024-07-05 17:02:16,358 DEBUG: No segmentation for image_url_pr_10_13_sample_11.jpg, no features masked.\n",
      "2024-07-05 17:02:16,724 DEBUG: Matching image_url_pr_10_13_sample_11.jpg and image_url_pr_10_13_sample_07.jpg.  Matcher: FLANN (symmetric) T-desc: 0.378 Matches: FAILED\n",
      "2024-07-05 17:02:16,902 DEBUG: Matching image_url_pr_10_13_sample_11.jpg and image_url_pr_10_13_sample_08.jpg.  Matcher: FLANN (symmetric) T-desc: 0.177 Matches: FAILED\n",
      "2024-07-05 17:02:16,913 DEBUG: No segmentation for image_url_pr_10_13_sample_13.jpg, no features masked.\n",
      "2024-07-05 17:02:16,926 DEBUG: No segmentation for image_url_pr_10_13_sample_12.jpg, no features masked.\n",
      "2024-07-05 17:02:17,464 DEBUG: Matching image_url_pr_10_13_sample_13.jpg and image_url_pr_10_13_sample_12.jpg.  Matcher: FLANN (symmetric) T-desc: 0.556 T-robust: 0.004 T-total: 0.562 Matches: 1659 Robust: 1650 Success: True\n",
      "2024-07-05 17:02:17,640 DEBUG: Matching image_url_pr_10_13_sample_13.jpg and image_url_pr_10_13_sample_11.jpg.  Matcher: FLANN (symmetric) T-desc: 0.174 T-robust: 0.001 T-total: 0.176 Matches: 513 Robust: 486 Success: True\n",
      "2024-07-05 17:02:17,822 DEBUG: Matching image_url_pr_10_13_sample_11.jpg and image_url_pr_10_13_sample_12.jpg.  Matcher: FLANN (symmetric) T-desc: 0.175 T-robust: 0.004 T-total: 0.181 Matches: 1681 Robust: 1646 Success: True\n",
      "2024-07-05 17:02:17,822 INFO: Matched 6 pairs (perspective-perspective: 6) in 2.108841079998456 seconds (0.351473609999933 seconds/pair).\n",
      "2024-07-05 17:02:19,475 INFO: reading features\n",
      "2024-07-05 17:02:19,527 DEBUG: Merging features onto tracks\n",
      "2024-07-05 17:02:19,567 DEBUG: Good tracks: 3316\n",
      "2024-07-05 17:02:21,317 INFO: Starting incremental reconstruction\n",
      "2024-07-05 17:02:21,363 INFO: Starting reconstruction with image_url_pr_10_13_sample_12.jpg and image_url_pr_10_13_sample_13.jpg\n",
      "2024-07-05 17:02:21,380 INFO: Two-view 5-points reconstruction inliers (transposed=False): 1663 / 1664\n",
      "2024-07-05 17:02:21,414 INFO: Collecting alignment constraints - bundle_use_gps:True bundle_use_gcp: True\n",
      "2024-07-05 17:02:21,414 INFO: GCP constraints X (0) - Xp (0)\n",
      "2024-07-05 17:02:21,414 INFO: GPS constraints X (2) - Xp (2)\n",
      "2024-07-05 17:02:21,622 INFO: Triangulated: 1514\n",
      "2024-07-05 17:02:21,858 INFO: Collecting alignment constraints - bundle_use_gps:True bundle_use_gcp: True\n",
      "2024-07-05 17:02:21,858 INFO: GCP constraints X (0) - Xp (0)\n",
      "2024-07-05 17:02:21,858 INFO: GPS constraints X (2) - Xp (2)\n",
      "2024-07-05 17:02:22,309 INFO: Ran GLOBAL bundle in 0.43 secs.with 2/1514/3028 (2.00) shots/points/proj. (avg. length)\n",
      "2024-07-05 17:02:22,310 DEBUG: Ceres Solver Report: Iterations: 50, Initial cost: 4.728458e+01, Final cost: 1.804233e+01, Termination: CONVERGENCE\n",
      "2024-07-05 17:02:22,323 INFO: Removed outliers: 0\n",
      "2024-07-05 17:02:22,345 INFO: -------------------------------------------------------\n",
      "2024-07-05 17:02:22,359 INFO: image_url_pr_10_13_sample_11.jpg resection inliers: 686 / 686\n",
      "2024-07-05 17:02:22,371 INFO: Adding image_url_pr_10_13_sample_11.jpg to the reconstruction\n",
      "2024-07-05 17:02:22,487 INFO: Re-triangulating\n",
      "2024-07-05 17:02:22,488 INFO: Collecting alignment constraints - bundle_use_gps:True bundle_use_gcp: True\n",
      "2024-07-05 17:02:22,488 INFO: GCP constraints X (0) - Xp (0)\n",
      "2024-07-05 17:02:22,489 INFO: GPS constraints X (3) - Xp (3)\n",
      "2024-07-05 17:02:23,570 INFO: Ran GLOBAL bundle in 1.05 secs.with 3/2339/5439 (2.33) shots/points/proj. (avg. length)\n",
      "2024-07-05 17:02:23,571 DEBUG: Ceres Solver Report: Iterations: 70, Initial cost: 1.285972e+02, Final cost: 4.944933e+01, Termination: CONVERGENCE\n",
      "2024-07-05 17:02:24,085 INFO: Ran GLOBAL bundle in 0.22 secs.with 3/2437/5644 (2.32) shots/points/proj. (avg. length)\n",
      "2024-07-05 17:02:24,085 DEBUG: Ceres Solver Report: Iterations: 13, Initial cost: 5.151640e+01, Final cost: 5.097435e+01, Termination: CONVERGENCE\n",
      "2024-07-05 17:02:24,107 INFO: Removed outliers: 0\n",
      "2024-07-05 17:02:24,107 INFO: Reconstruction now has 3 shots.\n",
      "2024-07-05 17:02:24,110 INFO: -------------------------------------------------------\n",
      "2024-07-05 17:02:24,113 INFO: Some images can not be added\n",
      "2024-07-05 17:02:24,113 INFO: -------------------------------------------------------\n",
      "2024-07-05 17:02:24,115 INFO: Collecting alignment constraints - bundle_use_gps:True bundle_use_gcp: True\n",
      "2024-07-05 17:02:24,115 INFO: GCP constraints X (0) - Xp (0)\n",
      "2024-07-05 17:02:24,115 INFO: GPS constraints X (3) - Xp (3)\n",
      "2024-07-05 17:02:24,665 INFO: Ran GLOBAL bundle in 0.52 secs.with 3/2437/5644 (2.32) shots/points/proj. (avg. length)\n",
      "2024-07-05 17:02:24,665 DEBUG: Ceres Solver Report: Iterations: 31, Initial cost: 5.939108e+01, Final cost: 5.139650e+01, Termination: CONVERGENCE\n",
      "2024-07-05 17:02:24,687 INFO: Removed outliers: 0\n",
      "2024-07-05 17:02:24,718 INFO: Starting reconstruction with image_url_pr_10_13_sample_07.jpg and image_url_pr_10_13_sample_08.jpg\n",
      "2024-07-05 17:02:24,795 INFO: Two-view 5-points reconstruction inliers (transposed=False): 709 / 709\n",
      "2024-07-05 17:02:24,812 INFO: Collecting alignment constraints - bundle_use_gps:True bundle_use_gcp: True\n",
      "2024-07-05 17:02:24,812 INFO: GCP constraints X (0) - Xp (0)\n",
      "2024-07-05 17:02:24,812 INFO: GPS constraints X (2) - Xp (2)\n",
      "2024-07-05 17:02:24,898 INFO: Triangulated: 709\n",
      "2024-07-05 17:02:24,998 INFO: Collecting alignment constraints - bundle_use_gps:True bundle_use_gcp: True\n",
      "2024-07-05 17:02:24,998 INFO: GCP constraints X (0) - Xp (0)\n",
      "2024-07-05 17:02:24,999 INFO: GPS constraints X (2) - Xp (2)\n",
      "2024-07-05 17:02:25,124 INFO: Ran GLOBAL bundle in 0.11 secs.with 2/709/1418 (2.00) shots/points/proj. (avg. length)\n",
      "2024-07-05 17:02:25,124 DEBUG: Ceres Solver Report: Iterations: 29, Initial cost: 2.685710e+01, Final cost: 1.123582e+01, Termination: CONVERGENCE\n",
      "2024-07-05 17:02:25,131 INFO: Removed outliers: 0\n",
      "2024-07-05 17:02:25,140 INFO: -------------------------------------------------------\n",
      "2024-07-05 17:02:25,141 INFO: Collecting alignment constraints - bundle_use_gps:True bundle_use_gcp: True\n",
      "2024-07-05 17:02:25,142 INFO: GCP constraints X (0) - Xp (0)\n",
      "2024-07-05 17:02:25,142 INFO: GPS constraints X (2) - Xp (2)\n",
      "2024-07-05 17:02:25,214 INFO: Ran GLOBAL bundle in 0.06 secs.with 2/709/1418 (2.00) shots/points/proj. (avg. length)\n",
      "2024-07-05 17:02:25,214 DEBUG: Ceres Solver Report: Iterations: 11, Initial cost: 1.782806e+01, Final cost: 1.123583e+01, Termination: CONVERGENCE\n",
      "2024-07-05 17:02:25,222 INFO: Removed outliers: 0\n",
      "2024-07-05 17:02:25,232 INFO: Reconstruction 0: 3 images, 2437 points\n",
      "2024-07-05 17:02:25,233 INFO: Reconstruction 1: 2 images, 709 points\n",
      "2024-07-05 17:02:25,233 INFO: 2 partial reconstructions in total.\n"
     ]
    }
   ],
   "source": [
    "%%bash\n",
    "source /opt/conda/bin/activate opensfm\n",
    "export PATH=$PATH:/opt/utils/OpenSfM/bin\n",
    "export MPLBACKEND=gtk3agg # if running within a notebook\n",
    "opensfm -h\n",
    "\n",
    "\n",
    "\n",
    "# Take initial guess of intrinsic parameters through metadata\n",
    "opensfm extract_metadata CAP_sample_1\n",
    "opensfm detect_features CAP_sample_1\n",
    "opensfm match_features CAP_sample_1\n",
    "opensfm create_tracks CAP_sample_1\n",
    "opensfm reconstruct CAP_sample_1\n",
    "\n"
   ]
  },
  {
   "cell_type": "code",
   "execution_count": 4,
   "metadata": {},
   "outputs": [],
   "source": [
    "%%bash\n",
    "source /opt/conda/bin/activate opensfm\n",
    "export PATH=$PATH:/opt/utils/OpenSfM/bin\n",
    "export MPLBACKEND=gtk3agg # if running within a notebook\n",
    "\n",
    "opensfm export_ply CAP_sample_1\n"
   ]
  },
  {
   "cell_type": "code",
   "execution_count": 3,
   "metadata": {},
   "outputs": [],
   "source": [
    "\n",
    "# read point cloud data\n",
    "pcd = o3d.io.read_point_cloud(\"CAP_sample_1/reconstruction.ply\", format='ply')\n",
    "\n",
    "# convert to array\n",
    "points = np.asarray(pcd.points)\n",
    "colors = np.asarray(pcd.colors)\n",
    "\n",
    "fig = go.Figure(\n",
    "    data=[\n",
    "        go.Scatter3d(\n",
    "            x=points[:,0], y=points[:,1], z=points[:,2], \n",
    "            mode='markers',\n",
    "            marker=dict(size=5, color=colors)\n",
    "        )\n",
    "    ],\n",
    "    layout=dict(\n",
    "        scene=dict(\n",
    "            xaxis=dict(visible=False),\n",
    "            yaxis=dict(visible=False),\n",
    "            zaxis=dict(visible=False)\n",
    "        )\n",
    "    )\n",
    ")\n",
    "fig.write_html('test.html')"
   ]
  },
  {
   "cell_type": "markdown",
   "metadata": {},
   "source": [
    "So what are we seeing? We see two collections of points, both mostly coplanar internally (which we expect, given that this is a mostly planar scene), but the two sets are not aligned with each other! Let's look a bit more closely..."
   ]
  },
  {
   "cell_type": "code",
   "execution_count": 4,
   "metadata": {},
   "outputs": [
    {
     "data": {
      "image/png": "[encoded data removed]",
      "text/plain": [
       "<Figure size 640x480 with 1 Axes>"
      ]
     },
     "metadata": {},
     "output_type": "display_data"
    }
   ],
   "source": [
    "# here, we're just going to plot the z (altitude) values of the reconstructed points\n",
    "point_coord = np.asarray(pcd.points)\n",
    "plt.hist(point_coord[:, 2].ravel())\n",
    "plt.show()"
   ]
  },
  {
   "cell_type": "markdown",
   "metadata": {},
   "source": [
    "So not only are the points misaligned, but we're getting wild altitude values! **What's going on?**"
   ]
  },
  {
   "cell_type": "markdown",
   "metadata": {},
   "source": [
    "### Exercise\n",
    "Let's make a critical assumption: all of the image coordinates (the GPS coordinates of the camera as it takes an image) all lie on a plane (in the mathematical sense). Answer the following questions:\n",
    "- How many points are needed to specify a (mathematical) plane?\n",
    "- In addition to the number of points, what other requirement do those points need?\n",
    "- Look at the visualization above. Do the camera points fulfill that requirement?\n",
    "- One way to resolve the ambiguity is to determine what direction is \"up\" (i.e. pointing away from the center of the Earth). Propose a solution to determine the up-vector. You can either assume the same setup that we currently have or propose new sensors/other setups."
   ]
  },
  {
   "cell_type": "code",
   "execution_count": null,
   "metadata": {},
   "outputs": [],
   "source": []
  },
  {
   "cell_type": "markdown",
   "metadata": {},
   "source": [
    "<details>\n",
    "    <summary>CLICK HERE TO SEE THE PROPOSED SOLUTION</summary>\n",
    "    We're going to make a fair (but limited) assumption that the ground is mostly flat. It turns out we can fit a plane through the reconstructed ground points and find a direction perpendicular to the plane (called the plane normal). If the ground is flat, then the normal should be close enough to the up direction. Note that this assumption does not hold for an area with a lot of inclination. In practice, we would most likely augment this with a Digital Elevation Model (DEM)\n",
    "\n",
    "</details>\n",
    "\n",
    "<img src=\"notebook_images/plane_normal.png\" width=\"500\"  />\n",
    "\n",
    "To implement the proposed solution, we can go to the CAP_sample_1/config.yaml file and modify \"align_orientation_prior\" from \"horizontal\" to \"plane_based\". Afterwards, we run the previous commands as usual."
   ]
  },
  {
   "cell_type": "code",
   "execution_count": 3,
   "metadata": {},
   "outputs": [
    {
     "name": "stderr",
     "output_type": "stream",
     "text": [
      "2024-07-05 16:55:41,806 INFO: reading features\n",
      "2024-07-05 16:55:41,857 DEBUG: Merging features onto tracks\n",
      "2024-07-05 16:55:41,897 DEBUG: Good tracks: 3305\n",
      "2024-07-05 16:55:43,649 INFO: Starting incremental reconstruction\n",
      "2024-07-05 16:55:43,693 INFO: Starting reconstruction with image_url_pr_10_13_sample_11.jpg and image_url_pr_10_13_sample_12.jpg\n",
      "2024-07-05 16:55:43,852 INFO: Two-view 5-points reconstruction inliers (transposed=False): 1730 / 1730\n",
      "2024-07-05 16:55:43,888 INFO: Collecting alignment constraints - bundle_use_gps:True bundle_use_gcp: True\n",
      "2024-07-05 16:55:43,888 INFO: GCP constraints X (0) - Xp (0)\n",
      "2024-07-05 16:55:43,888 INFO: GPS constraints X (2) - Xp (2)\n",
      "2024-07-05 16:55:44,103 INFO: Triangulated: 1609\n",
      "2024-07-05 16:55:44,331 INFO: Collecting alignment constraints - bundle_use_gps:True bundle_use_gcp: True\n",
      "2024-07-05 16:55:44,331 INFO: GCP constraints X (0) - Xp (0)\n",
      "2024-07-05 16:55:44,331 INFO: GPS constraints X (2) - Xp (2)\n",
      "2024-07-05 16:55:44,964 INFO: Ran GLOBAL bundle in 0.61 secs.with 2/1609/3218 (2.00) shots/points/proj. (avg. length)\n",
      "2024-07-05 16:55:44,964 DEBUG: Ceres Solver Report: Iterations: 69, Initial cost: 3.110935e+01, Final cost: 1.800401e+01, Termination: CONVERGENCE\n",
      "2024-07-05 16:55:44,978 INFO: Removed outliers: 0\n",
      "2024-07-05 16:55:44,999 INFO: -------------------------------------------------------\n",
      "2024-07-05 16:55:45,014 INFO: image_url_pr_10_13_sample_13.jpg resection inliers: 756 / 756\n",
      "2024-07-05 16:55:45,032 INFO: Adding image_url_pr_10_13_sample_13.jpg to the reconstruction\n",
      "2024-07-05 16:55:45,142 INFO: Re-triangulating\n",
      "2024-07-05 16:55:45,144 INFO: Collecting alignment constraints - bundle_use_gps:True bundle_use_gcp: True\n",
      "2024-07-05 16:55:45,144 INFO: GCP constraints X (0) - Xp (0)\n",
      "2024-07-05 16:55:45,144 INFO: GPS constraints X (3) - Xp (3)\n",
      "2024-07-05 16:55:46,357 INFO: Ran GLOBAL bundle in 1.18 secs.with 3/2478/5737 (2.32) shots/points/proj. (avg. length)\n",
      "2024-07-05 16:55:46,357 DEBUG: Ceres Solver Report: Iterations: 72, Initial cost: 1.582625e+02, Final cost: 5.575295e+01, Termination: CONVERGENCE\n",
      "2024-07-05 16:55:46,812 INFO: Ran GLOBAL bundle in 0.18 secs.with 3/2452/5685 (2.32) shots/points/proj. (avg. length)\n",
      "2024-07-05 16:55:46,813 DEBUG: Ceres Solver Report: Iterations: 10, Initial cost: 5.624335e+01, Final cost: 5.569709e+01, Termination: CONVERGENCE\n",
      "2024-07-05 16:55:46,835 INFO: Removed outliers: 0\n",
      "2024-07-05 16:55:46,835 INFO: Reconstruction now has 3 shots.\n",
      "2024-07-05 16:55:46,837 INFO: -------------------------------------------------------\n",
      "2024-07-05 16:55:46,840 INFO: Some images can not be added\n",
      "2024-07-05 16:55:46,840 INFO: -------------------------------------------------------\n",
      "2024-07-05 16:55:46,841 INFO: Collecting alignment constraints - bundle_use_gps:True bundle_use_gcp: True\n",
      "2024-07-05 16:55:46,841 INFO: GCP constraints X (0) - Xp (0)\n",
      "2024-07-05 16:55:46,841 INFO: GPS constraints X (3) - Xp (3)\n",
      "2024-07-05 16:55:47,378 INFO: Ran GLOBAL bundle in 0.50 secs.with 3/2452/5685 (2.32) shots/points/proj. (avg. length)\n",
      "2024-07-05 16:55:47,378 DEBUG: Ceres Solver Report: Iterations: 31, Initial cost: 6.403691e+01, Final cost: 5.612600e+01, Termination: CONVERGENCE\n",
      "2024-07-05 16:55:47,400 INFO: Removed outliers: 0\n",
      "2024-07-05 16:55:47,429 INFO: Starting reconstruction with image_url_pr_10_13_sample_07.jpg and image_url_pr_10_13_sample_08.jpg\n",
      "2024-07-05 16:55:47,485 INFO: Two-view 5-points reconstruction inliers (transposed=False): 670 / 670\n",
      "2024-07-05 16:55:47,500 INFO: Collecting alignment constraints - bundle_use_gps:True bundle_use_gcp: True\n",
      "2024-07-05 16:55:47,501 INFO: GCP constraints X (0) - Xp (0)\n",
      "2024-07-05 16:55:47,501 INFO: GPS constraints X (2) - Xp (2)\n",
      "2024-07-05 16:55:47,578 INFO: Triangulated: 670\n",
      "2024-07-05 16:55:47,662 INFO: Collecting alignment constraints - bundle_use_gps:True bundle_use_gcp: True\n",
      "2024-07-05 16:55:47,663 INFO: GCP constraints X (0) - Xp (0)\n",
      "2024-07-05 16:55:47,663 INFO: GPS constraints X (2) - Xp (2)\n",
      "2024-07-05 16:55:47,800 INFO: Ran GLOBAL bundle in 0.13 secs.with 2/670/1340 (2.00) shots/points/proj. (avg. length)\n",
      "2024-07-05 16:55:47,800 DEBUG: Ceres Solver Report: Iterations: 29, Initial cost: 2.468867e+01, Final cost: 1.127197e+01, Termination: CONVERGENCE\n",
      "2024-07-05 16:55:47,805 INFO: Removed outliers: 0\n",
      "2024-07-05 16:55:47,814 INFO: -------------------------------------------------------\n",
      "2024-07-05 16:55:47,815 INFO: Collecting alignment constraints - bundle_use_gps:True bundle_use_gcp: True\n",
      "2024-07-05 16:55:47,815 INFO: GCP constraints X (0) - Xp (0)\n",
      "2024-07-05 16:55:47,815 INFO: GPS constraints X (2) - Xp (2)\n",
      "2024-07-05 16:55:47,890 INFO: Ran GLOBAL bundle in 0.07 secs.with 2/670/1340 (2.00) shots/points/proj. (avg. length)\n",
      "2024-07-05 16:55:47,891 DEBUG: Ceres Solver Report: Iterations: 14, Initial cost: 1.786056e+01, Final cost: 1.127198e+01, Termination: CONVERGENCE\n",
      "2024-07-05 16:55:47,897 INFO: Removed outliers: 0\n",
      "2024-07-05 16:55:47,907 INFO: Reconstruction 0: 3 images, 2452 points\n",
      "2024-07-05 16:55:47,907 INFO: Reconstruction 1: 2 images, 670 points\n",
      "2024-07-05 16:55:47,907 INFO: 2 partial reconstructions in total.\n"
     ]
    }
   ],
   "source": [
    "%%bash\n",
    "source /opt/conda/bin/activate opensfm\n",
    "export PATH=$PATH:/opt/utils/OpenSfM/bin\n",
    "export MPLBACKEND=gtk3agg # if running within a notebook\n",
    "\n",
    "\n",
    "# This creates \"tracks\" for the features. That is to say, if a feature in image 1 is matched with one in image 2,\n",
    "# and in turn that one is matched with one in image 3, then it links the matches between 1 and 3. \n",
    "opensfm create_tracks CAP_sample_1\n",
    "\n",
    "# Calculates the essential matrix, the camera pose and the reconstructed feature points\n",
    "opensfm reconstruct CAP_sample_1\n",
    "\n",
    "# adding the --all command to include all partial reconstructions\n",
    "opensfm export_ply CAP_sample_1"
   ]
  },
  {
   "cell_type": "markdown",
   "metadata": {},
   "source": [
    "## Georegistration\n",
    "\n",
    "The process of assigning GPS coordinates to individual pixels is called _georegistration_ or _georeferencing_. This requires us to perform a final transformation from pixel coordinates *per each image* to the 3D reconstructed coordinates. Before doing so, it is worthwhile talking a bit about what exactly our 3D coordinate system is. \n",
    "\n",
    "You might recall that not all coordinate referece systems lend themselves well to geometric transformations. Specifically, we want our 3D coordinate system to be Cartesian (i.e. three orthogonal, right-handed axes). OpenSfM performs its reconstructions in what is known as a *local tangent plane coordinate system* called *local east, north, up (ENU) coordinates*. The way this works is, you select an origin somewhere in the world (in our case, it is saved in the reference_lla.json file), and you align your axes such that the x-axis is parallel to latitudes and increasing Eastward, the y-axis is parallel to meridians and increasing Northward, and the z-axis is pointing away from the center of the Earth. The image below shows how this works:\n",
    "\n",
    "<img src=\"notebook_images/enu.png\" width=\"500\"  />\n",
    "\n",
    "In order to convert from ENU coordinates to geodetic coordinates (i.e. latitude, longitude, altitude), you need to know the origin. "
   ]
  },
  {
   "cell_type": "code",
   "execution_count": 6,
   "metadata": {},
   "outputs": [],
   "source": [
    "import json\n",
    "import pandas as pd\n",
    "\n",
    "# Origin of our reconstruction, as given by the reference_lla.json (made from the reconstruction)\n",
    "with open(\"CAP_sample_1/reference_lla.json\", \"r\") as f:\n",
    "    reference_lla = json.load(f)\n",
    "    latitude=reference_lla[\"latitude\"]\n",
    "    longitude=reference_lla[\"longitude\"]\n",
    "    altitude=reference_lla[\"altitude\"]\n",
    "\n",
    "# This is the json file that contains the reconstructed feature points\n",
    "with open(\"CAP_sample_1/reconstruction.json\", \"r\") as f:\n",
    "    reconstructions = json.load(f)"
   ]
  },
  {
   "cell_type": "markdown",
   "metadata": {},
   "source": [
    "There is a bit of work we need to go through to finalize the georegistration. First, we need to match the reconstructed features with the features on an image the tracks.csv file and the reconstruction.json can help us do that. The columns of tracks are as follows: image name, track ID (ID of the reconstructed point), feature ID (ID of the feature within the image), the *normalized* image coordinates x and y, the normalization factor s, and the color of the feature RGB."
   ]
  },
  {
   "cell_type": "code",
   "execution_count": 5,
   "metadata": {},
   "outputs": [
    {
     "ename": "ImportError",
     "evalue": "cannot import name 'pybundle' from partially initialized module 'opensfm' (most likely due to a circular import) (/opt/utils/OpenSfM/opensfm/__init__.py)",
     "output_type": "error",
     "traceback": [
      "\u001b[0;31m---------------------------------------------------------------------------\u001b[0m",
      "\u001b[0;31mImportError\u001b[0m                               Traceback (most recent call last)",
      "Cell \u001b[0;32mIn[5], line 5\u001b[0m\n\u001b[1;32m      1\u001b[0m \u001b[38;5;28;01mimport\u001b[39;00m \u001b[38;5;21;01msys\u001b[39;00m\n\u001b[1;32m      2\u001b[0m sys\u001b[38;5;241m.\u001b[39mpath\u001b[38;5;241m.\u001b[39mappend(\u001b[38;5;124m'\u001b[39m\u001b[38;5;124m/opt/utils/OpenSfM\u001b[39m\u001b[38;5;124m'\u001b[39m)\n\u001b[0;32m----> 5\u001b[0m \u001b[38;5;28;01mfrom\u001b[39;00m \u001b[38;5;21;01mopensfm\u001b[39;00m\u001b[38;5;21;01m.\u001b[39;00m\u001b[38;5;21;01mfeatures\u001b[39;00m \u001b[38;5;28;01mimport\u001b[39;00m denormalized_image_coordinates\n\u001b[1;32m      7\u001b[0m \u001b[38;5;66;03m# reading the csv\u001b[39;00m\n\u001b[1;32m      8\u001b[0m tracks \u001b[38;5;241m=\u001b[39m pd\u001b[38;5;241m.\u001b[39mread_csv(\u001b[38;5;124m\"\u001b[39m\u001b[38;5;124mCAP_sample_1/tracks.csv\u001b[39m\u001b[38;5;124m\"\u001b[39m, sep\u001b[38;5;241m=\u001b[39m\u001b[38;5;124m\"\u001b[39m\u001b[38;5;130;01m\\t\u001b[39;00m\u001b[38;5;124m\"\u001b[39m, skiprows\u001b[38;5;241m=\u001b[39m\u001b[38;5;241m1\u001b[39m, names\u001b[38;5;241m=\u001b[39m[\u001b[38;5;124m\"\u001b[39m\u001b[38;5;124mimage_name\u001b[39m\u001b[38;5;124m\"\u001b[39m, \u001b[38;5;124m\"\u001b[39m\u001b[38;5;124mtrack_id\u001b[39m\u001b[38;5;124m\"\u001b[39m, \u001b[38;5;124m\"\u001b[39m\u001b[38;5;124mfeature_id\u001b[39m\u001b[38;5;124m\"\u001b[39m, \u001b[38;5;124m\"\u001b[39m\u001b[38;5;124mx\u001b[39m\u001b[38;5;124m\"\u001b[39m, \u001b[38;5;124m\"\u001b[39m\u001b[38;5;124my\u001b[39m\u001b[38;5;124m\"\u001b[39m, \u001b[38;5;124m\"\u001b[39m\u001b[38;5;124ms\u001b[39m\u001b[38;5;124m\"\u001b[39m, \u001b[38;5;124m\"\u001b[39m\u001b[38;5;124mR\u001b[39m\u001b[38;5;124m\"\u001b[39m, \u001b[38;5;124m\"\u001b[39m\u001b[38;5;124mG\u001b[39m\u001b[38;5;124m\"\u001b[39m, \u001b[38;5;124m\"\u001b[39m\u001b[38;5;124mB\u001b[39m\u001b[38;5;124m\"\u001b[39m])\n",
      "File \u001b[0;32m/opt/utils/OpenSfM/opensfm/__init__.py:2\u001b[0m\n\u001b[1;32m      1\u001b[0m \u001b[38;5;66;03m# pyre-unsafe\u001b[39;00m\n\u001b[0;32m----> 2\u001b[0m \u001b[38;5;28;01mfrom\u001b[39;00m \u001b[38;5;21;01mopensfm\u001b[39;00m \u001b[38;5;28;01mimport\u001b[39;00m pybundle\n\u001b[1;32m      3\u001b[0m \u001b[38;5;28;01mfrom\u001b[39;00m \u001b[38;5;21;01mopensfm\u001b[39;00m \u001b[38;5;28;01mimport\u001b[39;00m pydense\n\u001b[1;32m      4\u001b[0m \u001b[38;5;28;01mfrom\u001b[39;00m \u001b[38;5;21;01mopensfm\u001b[39;00m \u001b[38;5;28;01mimport\u001b[39;00m pyfeatures\n",
      "\u001b[0;31mImportError\u001b[0m: cannot import name 'pybundle' from partially initialized module 'opensfm' (most likely due to a circular import) (/opt/utils/OpenSfM/opensfm/__init__.py)"
     ]
    }
   ],
   "source": [
    "import sys\n",
    "sys.path.append('/opt/utils/OpenSfM')\n",
    "\n",
    "\n",
    "from opensfm.features import denormalized_image_coordinates\n",
    "\n",
    "# reading the csv\n",
    "tracks = pd.read_csv(\"CAP_sample_1/tracks.csv\", sep=\"\\t\", skiprows=1, names=[\"image_name\", \"track_id\", \"feature_id\", \"x\", \"y\", \"s\", \"R\", \"G\", \"B\"])\n",
    "\n",
    "# we need to denormalize the coordinates to turn them into regular pixel coordinates\n",
    "normalized_coor = tracks[[\"x\", \"y\", \"s\"]]\n",
    "denormalized_coor = denormalized_image_coordinates(normalized_coor.values, 4496, 3000)\n",
    "\n",
    "# create a new column with the denormalized coordinates\n",
    "tracks[\"denorm_x\"] = denormalized_coor[:, 0]\n",
    "tracks[\"denorm_y\"] = denormalized_coor[:, 1]"
   ]
  },
  {
   "cell_type": "markdown",
   "metadata": {},
   "source": [
    "We're going to store the georegistration by creating a new .tif file for every CAP image. As you can recall, .tif files save not just the pixel data but also the projection that allows it to be displayed on top of other map data. There are two parts to doing this:\n",
    "- First, we need to create an _orthorectified_ image. Simply put, this is one that is transformed such that it looks as though you are looking at it from the top down. \n",
    "- Second, we need to add *ground control points* (GCPs) to the orthorectified image. GCPs are correspondences between world coordinates and pixel coordinates.\n",
    "\n",
    "Once we add the GCPs, any mapping software can plot the image such that the GCPs are aligned with their underlying coordinates. "
   ]
  },
  {
   "cell_type": "code",
   "execution_count": 4,
   "metadata": {},
   "outputs": [
    {
     "ename": "NameError",
     "evalue": "name 'reconstructions' is not defined",
     "output_type": "error",
     "traceback": [
      "\u001b[0;31m---------------------------------------------------------------------------\u001b[0m",
      "\u001b[0;31mNameError\u001b[0m                                 Traceback (most recent call last)",
      "Cell \u001b[0;32mIn[4], line 19\u001b[0m\n\u001b[1;32m     16\u001b[0m \u001b[38;5;28;01mif\u001b[39;00m \u001b[38;5;129;01mnot\u001b[39;00m os\u001b[38;5;241m.\u001b[39mpath\u001b[38;5;241m.\u001b[39misdir(\u001b[38;5;124m\"\u001b[39m\u001b[38;5;124mCAP_sample_1/ortho/\u001b[39m\u001b[38;5;124m\"\u001b[39m):\n\u001b[1;32m     17\u001b[0m     os\u001b[38;5;241m.\u001b[39mmkdir(\u001b[38;5;124m\"\u001b[39m\u001b[38;5;124mCAP_sample_1/ortho/\u001b[39m\u001b[38;5;124m\"\u001b[39m)\n\u001b[0;32m---> 19\u001b[0m \u001b[38;5;28;01mfor\u001b[39;00m reconst \u001b[38;5;129;01min\u001b[39;00m \u001b[43mreconstructions\u001b[49m:\n\u001b[1;32m     20\u001b[0m     \u001b[38;5;28;01mfor\u001b[39;00m shot \u001b[38;5;129;01min\u001b[39;00m reconst[\u001b[38;5;124m\"\u001b[39m\u001b[38;5;124mshots\u001b[39m\u001b[38;5;124m\"\u001b[39m]:\n\u001b[1;32m     21\u001b[0m         \u001b[38;5;66;03m# some housekeeping\u001b[39;00m\n\u001b[1;32m     22\u001b[0m         shot_name \u001b[38;5;241m=\u001b[39m shot\u001b[38;5;241m.\u001b[39msplit(\u001b[38;5;124m\"\u001b[39m\u001b[38;5;124m.\u001b[39m\u001b[38;5;124m\"\u001b[39m)[\u001b[38;5;241m0\u001b[39m]\n",
      "\u001b[0;31mNameError\u001b[0m: name 'reconstructions' is not defined"
     ]
    }
   ],
   "source": [
    "import shutil\n",
    "import sys\n",
    "import os\n",
    "from osgeo import osr\n",
    "try:\n",
    "    from pymap3d import enu2geodetic\n",
    "except:\n",
    "    !pip install pymap3d\n",
    "    from pymap3d import enu2geodetic\n",
    "\n",
    "import random\n",
    "from skimage import transform\n",
    "\n",
    "if not os.path.isdir(\"CAP_sample_1/geotiff/\"):\n",
    "    os.mkdir(\"CAP_sample_1/geotiff/\")\n",
    "if not os.path.isdir(\"CAP_sample_1/ortho/\"):\n",
    "    os.mkdir(\"CAP_sample_1/ortho/\")\n",
    "\n",
    "for reconst in reconstructions:\n",
    "    for shot in reconst[\"shots\"]:\n",
    "        # some housekeeping\n",
    "        shot_name = shot.split(\".\")[0]\n",
    "        img = cv2.imread(\"CAP_sample_1/images/\"+shot)\n",
    "        shape = img.shape\n",
    "        \n",
    "        # here we get the features from the image and their corresponding reconstructed features\n",
    "        reconst_ids = list(map(int, reconst[\"points\"].keys()))\n",
    "        tracks_shot = tracks[(tracks[\"image_name\"] == shot) & (tracks[\"track_id\"].isin(reconst_ids))]\n",
    "        denorm_shot = np.round(tracks_shot[[\"denorm_x\", \"denorm_y\"]].values)\n",
    "        reconst_shot = np.array([reconst[\"points\"][str(point)][\"coordinates\"] for point in tracks_shot[\"track_id\"]])\n",
    "        \n",
    "        # we're going to create an image that is distorted to fit within the world coordinates\n",
    "        # pix_shot is just the reconstructed feature coordinates offset by some amount so that\n",
    "        # all coordinates are positive.\n",
    "        offset = np.min(reconst_shot[:, :2])\n",
    "        pix_shot = reconst_shot[:, :2]-np.multiply(offset, offset<0)\n",
    "        \n",
    "        # transformation for the new orthorectified image\n",
    "        H, inliers = cv2.findHomography(denorm_shot, pix_shot)\n",
    "        \n",
    "        # filtering out points that didn't fit the transformation\n",
    "        reconst_shot = reconst_shot[inliers.ravel()==1, :]\n",
    "        denorm_shot = np.round(denorm_shot[inliers.ravel()==1, :])\n",
    "        pix_shot = np.round(pix_shot[inliers.ravel()==1, :])\n",
    "        \n",
    "        # creating the ortho image\n",
    "        shape = tuple(np.max(pix_shot, axis=0).astype(int))\n",
    "        ortho_img = cv2.warpPerspective(img, H, shape)\n",
    "        cv2.imwrite(\"CAP_sample_1/ortho/\" + shot + \"_ortho.jpg\", ortho_img)\n",
    "        \n",
    "        # here we convert all of the reconstructed points into lat/lon coordinates\n",
    "        geo_shot = np.array([enu2geodetic(reconst_shot[i, 0],reconst_shot[i, 1],reconst_shot[i, 2],latitude,longitude,altitude) for i in range(reconst_shot.shape[0])])        \n",
    "        \n",
    "        idx = random.sample(range(len(geo_shot)), 10)\n",
    "        pix_shot_sample = pix_shot[idx, :]\n",
    "        geo_shot_sample = geo_shot[idx, :]\n",
    "                \n",
    "        # creating the Ground Control Points\n",
    "        orig_fn = \"CAP_sample_1/ortho/\" + shot + \"_ortho.jpg\"\n",
    "        fn = \"CAP_sample_1/geotiff/\" + shot_name + \"_GCP.tif\"\n",
    "        \n",
    "        orig_ds = gdal.Open(orig_fn)\n",
    "        gdal.GetDriverByName('GTiff').CreateCopy(fn, orig_ds)\n",
    "        ds = gdal.Open(fn, gdal.GA_Update)\n",
    "        sr = osr.SpatialReference()\n",
    "        sr.SetWellKnownGeogCS('WGS84')\n",
    "        \n",
    "        gcps = [gdal.GCP(geo_shot_sample[i, 1], geo_shot_sample[i, 0], 0, int(pix_shot_sample[i, 0]), int(pix_shot_sample[i, 1])) for i in range(geo_shot_sample.shape[0])]\n",
    "        \n",
    "        ds.SetGCPs(gcps, sr.ExportToWkt())\n",
    "        \n",
    "        ds = None\n",
    "        \n"
   ]
  },
  {
   "cell_type": "code",
   "execution_count": 16,
   "metadata": {},
   "outputs": [
    {
     "data": {
      "text/plain": [
       "<Figure size 1500x1500 with 0 Axes>"
      ]
     },
     "metadata": {},
     "output_type": "display_data"
    }
   ],
   "source": [
    "import os\n",
    "import matplotlib.pyplot as plt\n",
    "fig = plt.figure(figsize=(15, 15))\n",
    "files = [os.path.join('CAP_sample_1/geotiff/', f) for f in os.listdir('CAP_sample_1') if f.endswith(\"tif\")]\n",
    "\n",
    "for i, file in enumerate(files):\n",
    "    with rasterio.open(file, \"r\") as dataset:\n",
    "#         dataset_mask = dataset.read_masks(1)\n",
    "#         dataset_read = dataset.read(1)\n",
    "#         rasterio.plot.show(np.ma.masked_where(dataset_mask==0, dataset_read), ax=ax)\n",
    "        ax = fig.add_subplot(3, 2, i+1)\n",
    "        rasterio.plot.show(dataset, ax=ax)\n",
    "        ax.axis(\"equal\")"
   ]
  },
  {
   "cell_type": "markdown",
   "metadata": {},
   "source": [
    "## Exercise\n",
    "In the lesson folder, there is a spreadsheet with CAP images and their coordinates taken on October 13th, 2017. \n",
    "- Use geopandas to visualize the coordinates of all the images, and overlay it with some basemap\n",
    "- Select an area of those images that looks interesting to you. Use SfM to reconstruct at least 10 images\n",
    "- For those 10 images, select at least one and go through the georegistration process. Does the georegistration process yield good alignment with the ground truth? If not, why do you think that is?\n",
    "\n",
    "I **strongly** encourage you to tackle this as a team! Feel free to divide the tasks up as you see fit. "
   ]
  },
  {
   "cell_type": "code",
   "execution_count": 1,
   "metadata": {},
   "outputs": [],
   "source": [
    "import geopandas as gpd"
   ]
  },
  {
   "cell_type": "code",
   "execution_count": 2,
   "metadata": {},
   "outputs": [
    {
     "name": "stderr",
     "output_type": "stream",
     "text": [
      "ERROR 4: /path/to/reconstructed_image.tif: No such file or directory\n",
      "ERROR 4: /path/to/ground_truth.tif: No such file or directory\n"
     ]
    },
    {
     "ename": "AttributeError",
     "evalue": "'NoneType' object has no attribute 'GetProjection'",
     "output_type": "error",
     "traceback": [
      "\u001b[0;31m---------------------------------------------------------------------------\u001b[0m",
      "\u001b[0;31mAttributeError\u001b[0m                            Traceback (most recent call last)",
      "Cell \u001b[0;32mIn[2], line 16\u001b[0m\n\u001b[1;32m      9\u001b[0m gt_ds \u001b[38;5;241m=\u001b[39m gdal\u001b[38;5;241m.\u001b[39mOpen(ground_truth_path)\n\u001b[1;32m     11\u001b[0m \u001b[38;5;66;03m# Georegister the image\u001b[39;00m\n\u001b[1;32m     12\u001b[0m \u001b[38;5;66;03m# This step involves manual or automated control point selection and transformation\u001b[39;00m\n\u001b[1;32m     13\u001b[0m \u001b[38;5;66;03m# The following is a simplified conceptual example\u001b[39;00m\n\u001b[1;32m     14\u001b[0m \n\u001b[1;32m     15\u001b[0m \u001b[38;5;66;03m# Transform the image to match the ground truth\u001b[39;00m\n\u001b[0;32m---> 16\u001b[0m gdal\u001b[38;5;241m.\u001b[39mWarp(\u001b[38;5;124m'\u001b[39m\u001b[38;5;124m/path/to/georegistered_image.tif\u001b[39m\u001b[38;5;124m'\u001b[39m, image_ds, dstSRS\u001b[38;5;241m=\u001b[39m\u001b[43mgt_ds\u001b[49m\u001b[38;5;241;43m.\u001b[39;49m\u001b[43mGetProjection\u001b[49m())\n",
      "\u001b[0;31mAttributeError\u001b[0m: 'NoneType' object has no attribute 'GetProjection'"
     ]
    }
   ],
   "source": []
  },
  {
   "cell_type": "code",
   "execution_count": null,
   "metadata": {},
   "outputs": [],
   "source": []
  }
 ],
 "metadata": {
  "kernelspec": {
   "display_name": "Python 3 (ipykernel)",
   "language": "python",
   "name": "python3"
  },
  "language_info": {
   "codemirror_mode": {
    "name": "ipython",
    "version": 3
   },
   "file_extension": ".py",
   "mimetype": "text/x-python",
   "name": "python",
   "nbconvert_exporter": "python",
   "pygments_lexer": "ipython3",
   "version": "3.11.6"
  }
 },
 "nbformat": 4,
 "nbformat_minor": 4
}
