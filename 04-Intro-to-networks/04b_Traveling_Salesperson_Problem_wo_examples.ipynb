{
 "cells": [
  {
   "cell_type": "code",
   "execution_count": null,
   "metadata": {},
   "outputs": [],
   "source": [
    "import networkx as nx\n",
    "import osmnx as ox\n",
    "import geopandas as gpd\n",
    "import contextily as ctx \n",
    "import pandas as pd\n",
    "import numpy as np\n",
    "import matplotlib.pyplot as plt"
   ]
  },
  {
   "cell_type": "markdown",
   "metadata": {
    "colab_type": "text",
    "id": "ejhrKBqPng9F"
   },
   "source": [
    "# Traveling Salesperson Problem\n",
    "The canonical [Traveling Salesperson Problem](https://en.wikipedia.org/wiki/Travelling_salesman_problem) is stated as:\n",
    ">  \"Given a list of cities and the distances between each pair of cities, what is the shortest possible route that visits each city and returns to the origin city?\"\n",
    "\n",
    "This is generalizable to finding the shortest [Hamiltonian cycle](http://mathworld.wolfram.com/HamiltonianCycle.html) on a fully connected graph (i.e. all nodes can be reached from all other nodes).\n",
    "\n",
    "This problem is [NP-hard](https://en.wikipedia.org/wiki/P_versus_NP_problem), meaning it is not possible for an algorithm to solve all instances of the problem quickly (i.e. in polynomial time). However, there are many approximate and heuristic approaches which can give reasonable solutions in shorter time."
   ]
  },
  {
   "cell_type": "code",
   "execution_count": null,
   "metadata": {
    "colab": {},
    "colab_type": "code",
    "id": "C6JmtPFto13K"
   },
   "outputs": [],
   "source": [
    "place_name = 'New York City, NY, United States'\n",
    "place_roads = ox.graph_from_place(place_name)\n"
   ]
  },
  {
   "cell_type": "code",
   "execution_count": null,
   "metadata": {},
   "outputs": [],
   "source": [
    "# save graph to file for reuse\n",
    "ox.io.save_graphml(place_roads, 'nyc_osmnx.graphml')"
   ]
  },
  {
   "cell_type": "code",
   "execution_count": null,
   "metadata": {},
   "outputs": [],
   "source": [
    "# loading graph from a file\n",
    "place_roads = ox.io.load_graphml('nyc_osmnx.graphml')"
   ]
  },
  {
   "cell_type": "code",
   "execution_count": null,
   "metadata": {
    "colab": {},
    "colab_type": "code",
    "id": "k5W0RTsawXlE"
   },
   "outputs": [],
   "source": [
    "place_roads_nodes, place_roads_edges = ox.graph_to_gdfs(place_roads)"
   ]
  },
  {
   "cell_type": "code",
   "execution_count": null,
   "metadata": {
    "colab": {
     "base_uri": "https://localhost:8080/",
     "height": 530
    },
    "colab_type": "code",
    "id": "Hnp2qXbMss49",
    "outputId": "08d8d5d5-600f-482e-9623-e7691cf4e06c"
   },
   "outputs": [],
   "source": [
    "fig = plt.figure(figsize=[10,10])\n",
    "ax = fig.add_subplot(1,1,1)\n",
    "place_roads_edges.plot(ax=ax, color=[0, 0, 0], linewidth=0.5)"
   ]
  },
  {
   "cell_type": "markdown",
   "metadata": {
    "colab_type": "text",
    "id": "IoiI3SS1pIIs"
   },
   "source": [
    "Let's say you wanted to do a ice cream crawl: you want to visit every ice cream shop in a city. What is the shortest route that you would take that takes you to every ice cream shop in a city and brings you back to your starting point?"
   ]
  },
  {
   "cell_type": "code",
   "execution_count": null,
   "metadata": {
    "colab": {
     "base_uri": "https://localhost:8080/",
     "height": 779
    },
    "colab_type": "code",
    "id": "tAQK62C7pB7V",
    "outputId": "8323c432-4da4-4e10-bd43-8a9534da31da"
   },
   "outputs": [],
   "source": [
    "'''\n",
    "place_ice_cream = ox.geometries.geometries_from_place(place_name, tags={\"amenity\":\"ice_cream\"})\n",
    "\n",
    "#some of the ice cream shops return polygons instead of points, so we need to take their centroids\n",
    "place_ice_cream = place_ice_cream.to_crs(\"epsg:3857\") #projecting to Web-Mercator for more accurate centroids\n",
    "place_ice_cream[\"geometry\"] = place_ice_cream[\"geometry\"].centroid\n",
    "place_ice_cream = place_ice_cream.to_crs(\"epsg:4326\") #projecting back to lat/long\n",
    "\n",
    "place_ice_cream\n",
    "\n",
    "'''\n",
    "# Get ice cream shop locations\n",
    "place_ice_cream = ox.features.features_from_place(place_name, tags={\"amenity\": \"ice_cream\"})\n",
    "\n",
    "# Projecting to Web-Mercator for more accurate centroids\n",
    "place_ice_cream = place_ice_cream.to_crs(\"epsg:3857\")\n",
    "\n",
    "# Some of the ice cream shops return polygons instead of points, so we need to take their centroids\n",
    "place_ice_cream[\"geometry\"] = place_ice_cream.geometry.centroid\n",
    "\n",
    "# Projecting back to lat/long\n",
    "place_ice_cream = place_ice_cream.to_crs(\"epsg:4326\")\n",
    "\n",
    "# Display the result\n",
    "print(place_ice_cream)"
   ]
  },
  {
   "cell_type": "code",
   "execution_count": null,
   "metadata": {},
   "outputs": [],
   "source": [
    "place_ice_cream"
   ]
  },
  {
   "cell_type": "code",
   "execution_count": null,
   "metadata": {
    "colab": {
     "base_uri": "https://localhost:8080/",
     "height": 69
    },
    "colab_type": "code",
    "id": "DSEkty3Lr0AX",
    "outputId": "5fbf5594-6005-4b2c-93a2-0854624c22bb",
    "tags": []
   },
   "outputs": [],
   "source": [
    "ice_cream_nodes = ox.distance.nearest_nodes(place_roads, place_ice_cream.geometry.x, place_ice_cream.geometry.y)\n",
    "ice_cream_nodes"
   ]
  },
  {
   "cell_type": "markdown",
   "metadata": {
    "colab_type": "text",
    "id": "7vjZXdo4wwx0"
   },
   "source": [
    "## Exercise\n",
    "Plot the locations of the ice cream shops on the map of the roads"
   ]
  },
  {
   "cell_type": "code",
   "execution_count": null,
   "metadata": {
    "colab": {},
    "colab_type": "code",
    "id": "wUuhBee2w9Bd"
   },
   "outputs": [],
   "source": []
  },
  {
   "cell_type": "markdown",
   "metadata": {
    "colab_type": "text",
    "id": "qF1NSIerw-j4"
   },
   "source": [
    "## Compute shortest path matrix"
   ]
  },
  {
   "cell_type": "code",
   "execution_count": null,
   "metadata": {
    "colab": {
     "base_uri": "https://localhost:8080/",
     "height": 399
    },
    "colab_type": "code",
    "id": "q2c8QobPsq8e",
    "outputId": "86cd1497-74cc-4b3e-f8e2-9d1155adecd3"
   },
   "outputs": [],
   "source": [
    "shortest_path_matrix = np.zeros([len(ice_cream_nodes),len(ice_cream_nodes)])\n",
    "for idx_i, orig in enumerate(ice_cream_nodes):\n",
    "    shortest_paths = nx.single_source_dijkstra_path_length(place_roads, orig, weight='length')\n",
    "    for idx_j, dest in enumerate(ice_cream_nodes):\n",
    "        shortest_path_matrix[idx_i, idx_j] = shortest_paths[dest]\n",
    "shortest_path_matrix"
   ]
  },
  {
   "cell_type": "code",
   "execution_count": null,
   "metadata": {
    "colab": {},
    "colab_type": "code",
    "id": "Dx6x4175wv90"
   },
   "outputs": [],
   "source": [
    "'''\n",
    "ice_cream_graph = nx.from_numpy_matrix(shortest_path_matrix, create_using=nx.MultiDiGraph)\n",
    "'''\n",
    "ice_cream_graph = nx.from_numpy_array(shortest_path_matrix, create_using=nx.MultiDiGraph)"
   ]
  },
  {
   "cell_type": "code",
   "execution_count": null,
   "metadata": {
    "colab": {
     "base_uri": "https://localhost:8080/",
     "height": 34
    },
    "colab_type": "code",
    "id": "QXZedXvnzGX3",
    "outputId": "6927e94d-aa98-453a-f714-1cfdf650f7a7"
   },
   "outputs": [],
   "source": [
    "# new graph indexes from 0\n",
    "ice_cream_graph.nodes"
   ]
  },
  {
   "cell_type": "code",
   "execution_count": null,
   "metadata": {
    "colab": {
     "base_uri": "https://localhost:8080/",
     "height": 34
    },
    "colab_type": "code",
    "id": "rUufs51xteVN",
    "outputId": "75cdee08-8b22-4f0f-a9da-ab1dfb64676a"
   },
   "outputs": [],
   "source": [
    "# rename node labels using original labels\n",
    "ice_cream_graph = nx.relabel_nodes(ice_cream_graph,{k:v for k, v in zip(ice_cream_graph.nodes, ice_cream_nodes)})\n",
    "ice_cream_graph.nodes"
   ]
  },
  {
   "cell_type": "markdown",
   "metadata": {
    "colab_type": "text",
    "id": "IkkkXc4YzRX4"
   },
   "source": [
    "## Exercise\n",
    "Implement each of the following methods to see how good of a TSP path you can obtain."
   ]
  },
  {
   "cell_type": "markdown",
   "metadata": {
    "colab": {},
    "colab_type": "code",
    "id": "s5iJS8jbyBFu"
   },
   "source": [
    "## Method 1: Random\n",
    "Let's start by setting a baseline; how well can we do by starting at a random node and choosing a random node out of the ones remaining each time? \n",
    "\n",
    "After you find the path, draw it on the map and print its length. (You don't need to draw the actual roads taken, just draw lines between the nodes.)"
   ]
  },
  {
   "cell_type": "code",
   "execution_count": null,
   "metadata": {},
   "outputs": [],
   "source": []
  },
  {
   "cell_type": "markdown",
   "metadata": {},
   "source": [
    "## Method 2: Greedy\n",
    "Now, let's try to choose nodes more intelligently: start at a random node again, but instead of choosing a random node each time, always choose the node closest to the current node each time.\n",
    "\n",
    "Again, draw the path on the map and print its length."
   ]
  },
  {
   "cell_type": "code",
   "execution_count": null,
   "metadata": {},
   "outputs": [],
   "source": []
  },
  {
   "cell_type": "markdown",
   "metadata": {},
   "source": [
    "## Method 3: Random with 2-opt swapping\n",
    "\n",
    "You may have noticed that both paths contain a lot of edges that cross each other, which is nonideal. However, there exists an algorithm to remove all the paths that cross each other from a Hamiltonian cycle: the [2-opt](https://en.wikipedia.org/wiki/2-opt) algorithm. We can use that to our advantage here.\n",
    "\n",
    "Start by generating a random Hamiltonian cycle like in method 1, but this time, use the 2-opt algorithm to optimize it further. Again, draw it on the map and print its length."
   ]
  },
  {
   "cell_type": "code",
   "execution_count": null,
   "metadata": {},
   "outputs": [],
   "source": []
  },
  {
   "cell_type": "markdown",
   "metadata": {},
   "source": [
    "## Method 4: Open-ended\n",
    "\n",
    "Although the 2-opt swaps reduce the length of the Hamiltonian cycle by quite a lot, they almost never provide the optimal solution. See if you can use another method to produce a Hamiltonian cycle shorter than the one you got with method 3. Some options to explore include:\n",
    "\n",
    "- [3-opt](https://en.wikipedia.org/wiki/3-opt)\n",
    "- [Multi-fragment algorithm](https://en.wikipedia.org/wiki/Multi-fragment_algorithm) with 2- or 3-opt swapping\n",
    "- [Simulated annealing](https://en.wikipedia.org/wiki/Simulated_annealing)\n",
    "\n",
    "The [TSP Wikipedia page](https://en.wikipedia.org/wiki/Travelling_salesman_problem) has many other algorithms that could be of use to you as well.\n"
   ]
  },
  {
   "cell_type": "code",
   "execution_count": null,
   "metadata": {},
   "outputs": [],
   "source": []
  },
  {
   "cell_type": "code",
   "execution_count": null,
   "metadata": {},
   "outputs": [],
   "source": []
  }
 ],
 "metadata": {
  "colab": {
   "include_colab_link": true,
   "name": "08_Graph_Optimization_Problems-TSP.ipynb",
   "provenance": [],
   "version": "0.3.2"
  },
  "kernelspec": {
   "display_name": "Python 3 (ipykernel)",
   "language": "python",
   "name": "python3"
  },
  "language_info": {
   "codemirror_mode": {
    "name": "ipython",
    "version": 3
   },
   "file_extension": ".py",
   "mimetype": "text/x-python",
   "name": "python",
   "nbconvert_exporter": "python",
   "pygments_lexer": "ipython3",
   "version": "3.8.19"
  }
 },
 "nbformat": 4,
 "nbformat_minor": 4
}
