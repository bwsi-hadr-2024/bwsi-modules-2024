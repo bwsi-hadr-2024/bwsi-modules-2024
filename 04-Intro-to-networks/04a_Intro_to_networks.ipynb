{
 "cells": [
  {
   "cell_type": "markdown",
   "metadata": {
    "colab_type": "text",
    "id": "view-in-github"
   },
   "source": [
    "<a href=\"https://colab.research.google.com/github/bwsi-hadr/04-Intro-to-networks/blob/master/04_Intro_to_networks.ipynb\" target=\"_parent\"><img src=\"https://colab.research.google.com/assets/colab-badge.svg\" alt=\"Open In Colab\"/></a>"
   ]
  },
  {
   "cell_type": "markdown",
   "metadata": {
    "colab_type": "text",
    "id": "so1sQtDiIP9c"
   },
   "source": [
    "# Intro to Networks\n",
    "The study of networks investigates the relationship between discrete objects using [graphs](https://en.wikipedia.org/wiki/Graph_(discrete_mathematics))\n",
    "\n",
    "![network_diagram](https://upload.wikimedia.org/wikipedia/commons/2/2f/Small_Network.png)\n",
    "\n",
    "Graphs are a mathematical structure which represent a set of objects (called nodes or vertices) as well as their symmetric or asymmetric relationships (called links or edges).\n",
    "\n",
    "They can be used to represent both physical systems (roads, pipelines, electrical grid) and abstract systems (social, collaboration, genetics).\n",
    "\n",
    "For this course, we'll be using the python `networkx` package, which provides many useful classes and functions for representing and doing computations with networks. \n",
    "\n",
    "In addition, we'll be using the `osmnx` package, which will download openstreetmap road networks as `networkx` objects. There are a ton of useful examples in the [examples repo](https://github.com/gboeing/osmnx-examples).\n",
    "\n",
    "This lecture is based off of the [osmnx-examples](https://github.com/gboeing/osmnx-examples) code and the [Automating GIS Processes](https://automating-gis-processes.github.io/2018/notebooks/L6/retrieve_osm_data.html) course."
   ]
  },
  {
   "cell_type": "code",
   "execution_count": null,
   "metadata": {
    "colab": {},
    "colab_type": "code",
    "id": "uyEYFnMO8RM7"
   },
   "outputs": [],
   "source": [
    "import networkx as nx # need networkx >= 2.5\n",
    "import osmnx as ox\n",
    "import contextily as ctx \n",
    "from matplotlib import pyplot as plt\n",
    "from shapely.geometry import Polygon\n",
    "import folium\n",
    "import numpy as np\n",
    "import matplotlib.patches as mpatches\n",
    "import geopandas as gpd\n",
    "from shapely.ops import nearest_points"
   ]
  },
  {
   "cell_type": "code",
   "execution_count": null,
   "metadata": {
    "colab": {},
    "colab_type": "code",
    "id": "qRkpwHw89i-w"
   },
   "outputs": [],
   "source": [
    "# Specify the name that is used to seach for the data\n",
    "place_name = \"Cambridge, MA, USA\"\n",
    "\n",
    "# Fetch OSM street network from the location\n",
    "# this will take a while because there's a lot of streets\n",
    "graph = ox.graph_from_place(place_name)"
   ]
  },
  {
   "cell_type": "code",
   "execution_count": null,
   "metadata": {},
   "outputs": [],
   "source": [
    "# metadata about the graph object\n",
    "graph.graph"
   ]
  },
  {
   "cell_type": "code",
   "execution_count": null,
   "metadata": {},
   "outputs": [],
   "source": [
    "# we can save the graph to a file so that we don't have to\n",
    "# wait for it to download again next time\n",
    "ox.io.save_graphml(graph, 'cambridge_osmnx.graphml')"
   ]
  },
  {
   "cell_type": "code",
   "execution_count": null,
   "metadata": {},
   "outputs": [],
   "source": [
    "# loading graph from a file\n",
    "graph = ox.io.load_graphml('cambridge_osmnx.graphml')"
   ]
  },
  {
   "cell_type": "code",
   "execution_count": null,
   "metadata": {
    "colab": {
     "base_uri": "https://localhost:8080/",
     "height": 357
    },
    "colab_type": "code",
    "id": "E8C4u1Cq8R2h",
    "outputId": "881ea8bf-82ef-4d1f-fa6a-fc60df9e9882"
   },
   "outputs": [],
   "source": [
    "# Let's take a look at the graph\n",
    "fig, ax = ox.plot_graph(graph)"
   ]
  },
  {
   "cell_type": "code",
   "execution_count": null,
   "metadata": {
    "colab": {
     "base_uri": "https://localhost:8080/",
     "height": 1000
    },
    "colab_type": "code",
    "id": "cDik6heH-jzq",
    "outputId": "4f85b1e7-7fe7-4255-c317-82b858b43592"
   },
   "outputs": [],
   "source": [
    "# we can project the graph into epsg:3857 so that units are in meters\n",
    "# using the .project_graph() function; \n",
    "# by default, osmnx graphs are created in WGS84, (epsg:4326)\n",
    "graph_proj = ox.project_graph(graph, to_crs='epsg:3857')"
   ]
  },
  {
   "cell_type": "code",
   "execution_count": null,
   "metadata": {},
   "outputs": [],
   "source": [
    "# we can then convert the projected graph to a geodataframe\n",
    "graph_nodes_gdf, graph_edges_gdf = ox.graph_to_gdfs(graph_proj)\n",
    "graph_nodes_gdf.crs"
   ]
  },
  {
   "cell_type": "code",
   "execution_count": null,
   "metadata": {
    "tags": []
   },
   "outputs": [],
   "source": [
    "graph_nodes_gdf"
   ]
  },
  {
   "cell_type": "code",
   "execution_count": null,
   "metadata": {
    "tags": []
   },
   "outputs": [],
   "source": [
    "graph_edges_gdf"
   ]
  },
  {
   "cell_type": "code",
   "execution_count": null,
   "metadata": {
    "colab": {
     "base_uri": "https://localhost:8080/",
     "height": 170
    },
    "colab_type": "code",
    "id": "d6pjn3VPRtQY",
    "outputId": "512a1c18-5457-4e0c-a54b-31e0c6a5c770"
   },
   "outputs": [],
   "source": [
    "# we can also get a gdf for the footprint of the place\n",
    "place_footprint = ox.geocode_to_gdf(place_name)\n",
    "graph_area = place_footprint.to_crs('epsg:3857')\n",
    "graph_area"
   ]
  },
  {
   "cell_type": "code",
   "execution_count": null,
   "metadata": {},
   "outputs": [],
   "source": [
    "graph_area.plot()"
   ]
  },
  {
   "cell_type": "markdown",
   "metadata": {
    "colab_type": "text",
    "id": "H96qB6LdSggm"
   },
   "source": [
    "## Exercises\n",
    "What is the total area of cambridge in sq meters?"
   ]
  },
  {
   "cell_type": "code",
   "execution_count": null,
   "metadata": {
    "colab": {},
    "colab_type": "code",
    "id": "6-4FwvAxSeVr"
   },
   "outputs": [],
   "source": [
    "# Project the place footprint to the desired CRS (EPSG:3857)\n",
    "place_footprint_proj = place_footprint.to_crs('epsg:3857')\n",
    "\n",
    "# Calculate the total area in square meters\n",
    "total_area_sqm = place_footprint_proj.geometry.area[0]\n",
    "print(f\"The total area of Cambridge in square meters is: {total_area_sqm:.2f} sq meters\")"
   ]
  },
  {
   "cell_type": "markdown",
   "metadata": {},
   "source": [
    "How many street segments in Cambridge are longer than 100 meters?"
   ]
  },
  {
   "cell_type": "code",
   "execution_count": null,
   "metadata": {},
   "outputs": [],
   "source": [
    "# Calculate the length of each street segment and find segments longer than 100 meters\n",
    "graph_edges_gdf['length'] = graph_edges_gdf.geometry.length\n",
    "long_segments_count = (graph_edges_gdf['length'] > 100).sum()\n",
    "print(f\"The number of street segments in Cambridge longer than 100 meters is: {long_segments_count}\")"
   ]
  },
  {
   "cell_type": "markdown",
   "metadata": {
    "colab_type": "text",
    "id": "HnAHrTJeUGqy"
   },
   "source": [
    "## Road network statistics"
   ]
  },
  {
   "cell_type": "code",
   "execution_count": null,
   "metadata": {
    "colab": {
     "base_uri": "https://localhost:8080/",
     "height": 642
    },
    "colab_type": "code",
    "id": "jsY1RXD7-06A",
    "outputId": "2cc4cb47-6312-411f-a506-3daeb788cb23"
   },
   "outputs": [],
   "source": [
    "# we can get basic stats about the network:\n",
    "ox.stats.basic_stats(graph_proj)"
   ]
  },
  {
   "cell_type": "markdown",
   "metadata": {
    "colab_type": "text",
    "id": "ghw38pdfXSw5"
   },
   "source": [
    "Circuity is the ratio of network distance (distance traveled along roads) to euclidean distance (straight line). Higher circuity means greater inefficiency in traveling along the roads.\n",
    "\n",
    "Check the [documentation](https://osmnx.readthedocs.io/en/stable/osmnx.html#module-osmnx.stats) for more info about each statistic"
   ]
  },
  {
   "cell_type": "code",
   "execution_count": null,
   "metadata": {
    "colab": {
     "base_uri": "https://localhost:8080/",
     "height": 729
    },
    "colab_type": "code",
    "id": "3atCRzMqSEqq",
    "outputId": "48650ef9-7983-4ec0-cfad-c0226f6967c8"
   },
   "outputs": [],
   "source": [
    "# if you pass in the area, you can get density info\n",
    "area_cambridge_sqm = graph_area['geometry'].area\n",
    "ox.basic_stats(graph_proj, area=area_cambridge_sqm)"
   ]
  },
  {
   "cell_type": "markdown",
   "metadata": {
    "colab_type": "text",
    "id": "i7D1Ye81DRjZ"
   },
   "source": [
    "## Getting data other ways\n",
    "In the above example, we used the name of a place to get the data that we wanted.\n",
    "\n",
    "However, there are other ways to specify locations which may be more convenient.\n",
    "\n",
    "For example, you can get [graphs from address](https://osmnx.readthedocs.io/en/stable/osmnx.html?highlight=poly#osmnx.core.graph_from_address), [bounding box](https://osmnx.readthedocs.io/en/stable/osmnx.html?highlight=poly#osmnx.core.graph_from_bbox), [points](https://osmnx.readthedocs.io/en/stable/osmnx.html?highlight=poly#osmnx.core.graph_from_bbox), or [shapely polygon object](https://osmnx.readthedocs.io/en/stable/osmnx.html?highlight=poly#osmnx.core.graph_from_polygon)"
   ]
  },
  {
   "cell_type": "markdown",
   "metadata": {
    "colab_type": "text",
    "id": "JkXzm2OoMBPF"
   },
   "source": [
    "The types of networks you can get are:\n",
    "\n",
    "-    `drive` - get drivable public streets (but not service roads)\n",
    "-    `drive_service` - get drivable streets, including service roads\n",
    "-    `walk` - get all streets and paths that pedestrians can use (this network type ignores one-way directionality)\n",
    "-    `bike` - get all streets and paths that cyclists can use\n",
    "-    `all` - download all non-private OSM streets and paths\n",
    "-    `all_private` - download all OSM streets and paths, including private-access ones\n",
    "\n"
   ]
  },
  {
   "cell_type": "code",
   "execution_count": null,
   "metadata": {
    "colab": {
     "base_uri": "https://localhost:8080/",
     "height": 34
    },
    "colab_type": "code",
    "id": "YfDBCndbcG0o",
    "outputId": "1ad2432f-05af-4ccf-c069-c2b04236a014"
   },
   "outputs": [],
   "source": [
    "# Coordinates of the MIT main campus in Decimal Degrees\n",
    "coordinates = [(-71.092562, 42.357602), (-71.080155, 42.361553),\n",
    "               (-71.089817, 42.362584), (-71.094688, 42.360198)]\n",
    "\n",
    "# Create a Shapely polygon from the coordinate-tuple list\n",
    "poly = Polygon(coordinates)\n",
    "\n",
    "# convert to meters from latlong by projecting to epsg:3857\n",
    "poly_m, poly_crs_m = ox.projection.project_geometry(poly, to_crs='epsg:3857')\n",
    "\n",
    "# put a buffer of 1 mile (1609.34 m) to get everything w/in 1 mile\n",
    "poly_with_buffer_m = poly_m.buffer(1609.34)\n",
    "\n",
    "# convert back to lat-long\n",
    "poly_with_buffer_ll, poly_crs_ll = ox.projection.project_geometry(poly_with_buffer_m, \n",
    "                                                        crs=poly_crs_m, \n",
    "                                                        to_crs='epsg:4326', \n",
    "                                                        to_latlong=True)\n",
    "\n",
    "'''\n",
    "# get all walkable roads within poly\n",
    "walkable_roads_near_mit = ox.graph_from_polygon(poly_with_buffer_ll, \n",
    "                                       network_type='walk',\n",
    "                                       clean_periphery=True)\n",
    "'''\n",
    "# Get all walkable roads within poly\n",
    "walkable_roads_near_mit = ox.graph_from_polygon(\n",
    "    poly_with_buffer_ll, \n",
    "    network_type='walk'\n",
    ")\n"
   ]
  },
  {
   "cell_type": "code",
   "execution_count": null,
   "metadata": {
    "colab": {
     "base_uri": "https://localhost:8080/",
     "height": 466
    },
    "colab_type": "code",
    "id": "Aj6GGgH0LeMC",
    "outputId": "7934d158-5de0-4cc4-ab0c-29a0041b450c"
   },
   "outputs": [],
   "source": [
    "# let's plot it\n",
    "fig, ax = ox.plot_graph(walkable_roads_near_mit, figsize=(8,10), node_size=10)"
   ]
  },
  {
   "cell_type": "code",
   "execution_count": null,
   "metadata": {},
   "outputs": [],
   "source": [
    "# example of a road\n",
    "all_edges_list = list(walkable_roads_near_mit.edges) # put the id for each edge in a list\n",
    "print(all_edges_list[0]) # id of first edge\n",
    "print(walkable_roads_near_mit.edges[all_edges_list[0]]) # get details for first edge"
   ]
  },
  {
   "cell_type": "code",
   "execution_count": null,
   "metadata": {
    "tags": []
   },
   "outputs": [],
   "source": [
    "# get attribute for all edges\n",
    "walkable_roads_near_mit.edges(data='name')"
   ]
  },
  {
   "cell_type": "code",
   "execution_count": null,
   "metadata": {
    "colab": {
     "base_uri": "https://localhost:8080/",
     "height": 34
    },
    "colab_type": "code",
    "id": "voDE2c4-fbUd",
    "outputId": "765cdb0d-4998-464b-c895-820f5acacfc6"
   },
   "outputs": [],
   "source": [
    "# example of a node (intersection)\n",
    "all_nodes_list = list(walkable_roads_near_mit.nodes)\n",
    "print(all_nodes_list[0]) # id of first node\n",
    "print(walkable_roads_near_mit.nodes[all_nodes_list[0]]) # details for first node"
   ]
  },
  {
   "cell_type": "code",
   "execution_count": null,
   "metadata": {
    "tags": []
   },
   "outputs": [],
   "source": [
    "# get attribute for all nodes\n",
    "walkable_roads_near_mit.nodes(data='street_count')"
   ]
  },
  {
   "cell_type": "markdown",
   "metadata": {},
   "source": [
    "## Exercise\n",
    "\n",
    "How many walkable roads near MIT are longer than 100 meters?"
   ]
  },
  {
   "cell_type": "code",
   "execution_count": null,
   "metadata": {},
   "outputs": [],
   "source": [
    "# Calculate the length of each street segment and find segments longer than 100 meters\n",
    "graph_edges_gdf['length'] = graph_edges_gdf.geometry.length\n",
    "long_segments_count = (graph_edges_gdf['length'] > 100).sum()\n",
    "print(f\"The number of walkable roads near MIT longer than 100 meters is: {long_segments_count}\")"
   ]
  },
  {
   "cell_type": "markdown",
   "metadata": {
    "colab_type": "text",
    "id": "3ZwnblcYd0UH"
   },
   "source": [
    "## Routing\n",
    "We can get the node closest to a point using the `ox.distance.nearest_node` function."
   ]
  },
  {
   "cell_type": "code",
   "execution_count": null,
   "metadata": {
    "colab": {
     "base_uri": "https://localhost:8080/",
     "height": 412
    },
    "colab_type": "code",
    "id": "HEaCknQPdaOr",
    "outputId": "895788c3-0df0-44e3-ea27-b32aaca44050"
   },
   "outputs": [],
   "source": [
    "orig_node = ox.distance.nearest_nodes(walkable_roads_near_mit, -71.092562, 42.357602)\n",
    "\n",
    "# let's calculate the route to a random destination node\n",
    "rand_node = np.random.choice(walkable_roads_near_mit.nodes)\n",
    "print(walkable_roads_near_mit[rand_node])\n",
    "\n",
    "'''\n",
    "route = ox.distance.shortest_path(walkable_roads_near_mit, \n",
    "                         orig_node, rand_node, \n",
    "                         weight='length')\n",
    "'''\n",
    "route = ox.routing.shortest_path(walkable_roads_near_mit, \n",
    "                         orig_node, rand_node, \n",
    "                         weight='length')\n",
    "\n",
    "fig, ax = ox.plot_graph_route(walkable_roads_near_mit, route, node_size=0)\n",
    "shortest_path_length = nx.shortest_path_length(walkable_roads_near_mit, orig_node, \n",
    "                              rand_node, weight='length')\n",
    "print(f'length of shortest walkable path from node {orig_node} to {rand_node} is {shortest_path_length:.2f}m') # the {:.2f} syntax means round off to 2 digits after decimal pt"
   ]
  },
  {
   "cell_type": "markdown",
   "metadata": {},
   "source": [
    "The `shortest_path` function in networkx uses [Dijkstra's algorithm](https://en.wikipedia.org/wiki/Dijkstra%27s_algorithm) to efficiently calculate the shortest path between two nodes. The networkx library also provides many other useful functions on graphs; for instance, the [Floyd-Warshall algorithm](https://en.wikipedia.org/wiki/Floyd%E2%80%93Warshall_algorithm), which efficiently computes the shortest paths between all pairs of nodes, and the [A* (A-star) algorithm](https://en.wikipedia.org/wiki/A*_search_algorithm), which is similar to Dijkstra's algorithm, except it runs faster by taking advantage of a distance \"approximation\" that can be calculated between two nodes without knowing the shortest path outright. Check out these links if you want to learn more about these algorithms, and check out the [networkx documentation](https://networkx.github.io/documentation/networkx-2.4/index.html) if you want to learn more about all the methods networkx provides."
   ]
  },
  {
   "cell_type": "markdown",
   "metadata": {
    "colab_type": "text",
    "id": "WynjOpLWdacF"
   },
   "source": [
    "## Building outlines\n",
    "We can get the footprint of objects such as buildings as geodataframes with `osmnx`. Here we'll get the building footprints near MIT."
   ]
  },
  {
   "cell_type": "code",
   "execution_count": null,
   "metadata": {
    "colab": {
     "base_uri": "https://localhost:8080/",
     "height": 1000
    },
    "colab_type": "code",
    "id": "IiqszgpxDRCS",
    "outputId": "89e3a205-54ce-4083-f37b-0f9f24c2ab6a"
   },
   "outputs": [],
   "source": [
    "'''\n",
    "# we can get the footprints of objects within this poly\n",
    "building_footprints = ox.geometries.geometries_from_polygon(poly_with_buffer_ll, tags={'building':True})\n",
    "'''\n",
    "# we can get the footprints of objects within this poly\n",
    "building_footprints = ox.features.features_from_polygon(poly_with_buffer_ll, tags={'building':True})\n"
   ]
  },
  {
   "cell_type": "markdown",
   "metadata": {},
   "source": [
    "You can perform any query using OSM tags: https://wiki.openstreetmap.org/wiki/Map_features\n",
    "\n",
    "Note that if you include multiple tags, it gets the **union** of the results, not the intersection"
   ]
  },
  {
   "cell_type": "code",
   "execution_count": null,
   "metadata": {},
   "outputs": [],
   "source": [
    "'''\n",
    "road_footprints = ox.geometries.geometries_from_polygon(poly_with_buffer_ll, tags={'highway':True}) # get roads with geometry\n",
    "# note that most roads do not have footprint information\n",
    "'''\n",
    "road_footprints = ox.features.features_from_polygon(poly_with_buffer_ll, tags={'highway':True}) # get roads with geometry\n",
    "# note that most roads do not have footprint information"
   ]
  },
  {
   "cell_type": "code",
   "execution_count": null,
   "metadata": {
    "colab": {
     "base_uri": "https://localhost:8080/",
     "height": 1000
    },
    "colab_type": "code",
    "id": "7piM1WMoac9Y",
    "outputId": "530be765-db52-4c87-c8a6-ed28f4ded3ef"
   },
   "outputs": [],
   "source": [
    "# project into UTM for info in meters\n",
    "building_footprints_proj = ox.projection.project_gdf(building_footprints)\n",
    "road_footprints_proj = ox.projection.project_gdf(road_footprints)\n",
    "building_footprints_proj"
   ]
  },
  {
   "cell_type": "code",
   "execution_count": null,
   "metadata": {},
   "outputs": [],
   "source": [
    "# column names\n",
    "building_footprints_proj.columns.values"
   ]
  },
  {
   "cell_type": "code",
   "execution_count": null,
   "metadata": {
    "colab": {},
    "colab_type": "code",
    "id": "6785pAjwZwvK"
   },
   "outputs": [],
   "source": [
    "# drop rows where there's no shape info\n",
    "building_footprints_proj = building_footprints_proj.dropna(subset=['geometry'])\n",
    "road_footprints = road_footprints.dropna(subset=['geometry'])"
   ]
  },
  {
   "cell_type": "code",
   "execution_count": null,
   "metadata": {
    "colab": {
     "base_uri": "https://localhost:8080/",
     "height": 262
    },
    "colab_type": "code",
    "id": "D1TFDKZZM0Eg",
    "outputId": "ba400f83-cb03-4a3f-e4d4-3fd6633b8ca7"
   },
   "outputs": [],
   "source": [
    "fig, ax = ox.plot_footprints(building_footprints_proj)"
   ]
  },
  {
   "cell_type": "code",
   "execution_count": null,
   "metadata": {},
   "outputs": [],
   "source": [
    "# plot roads with footprints\n",
    "fig, ax = ox.plot_footprints(road_footprints_proj) # note that this is only a small subset of all roads"
   ]
  },
  {
   "cell_type": "code",
   "execution_count": null,
   "metadata": {
    "colab": {},
    "colab_type": "code",
    "id": "1Y_JvqmXZhEY"
   },
   "outputs": [],
   "source": [
    "# save the geodataframe to a file to persist\n",
    "# can choose to write only a subset of columns if you want\n",
    "building_footprints_proj[['description', 'operator', 'railway', 'geometry', 'attribution',\n",
    "       'source', 'addr:city', 'addr:housenumber', 'addr:postcode',\n",
    "       'addr:state', 'addr:street', 'amenity']].to_file('buildings_around_mit.geojson', driver='GeoJSON')\n"
   ]
  },
  {
   "cell_type": "markdown",
   "metadata": {
    "colab_type": "text",
    "id": "FWZpnbIHbs41"
   },
   "source": [
    "# Exercises\n",
    "Plot the walkable roads and buildings in the area near MIT in the same figure. The `osmnx` plotting features use matplotlib on the backend. Check [the documentation](https://osmnx.readthedocs.io/en/stable/osmnx.html#osmnx.plot.plot_graph) for more formatting options for plotting"
   ]
  },
  {
   "cell_type": "code",
   "execution_count": null,
   "metadata": {
    "colab": {},
    "colab_type": "code",
    "id": "H__6Pkrca23i"
   },
   "outputs": [],
   "source": [
    "# Plot the walkable roads and buildings in the area near MIT in the same figure\n",
    "fig, ax = plt.subplots(figsize=(12, 12))\n",
    "\n",
    "# Plot walkable roads\n",
    "ox.plot_graph(walkable_roads_near_mit, ax=ax, show=False, close=False, edge_color='gray', edge_linewidth=0.5)\n",
    "\n",
    "# Plot building footprints\n",
    "building_footprints_proj.plot(ax=ax, facecolor='khaki', edgecolor='k', alpha=0.7)\n",
    "\n",
    "plt.title('Walkable Roads and Buildings Near MIT')\n",
    "plt.show()"
   ]
  },
  {
   "cell_type": "markdown",
   "metadata": {},
   "source": [
    "Now, go back to one of the previous exercises and plot all the nodes on the periphery of Cambridge and the roads in Cambridge in the same figure."
   ]
  },
  {
   "cell_type": "code",
   "execution_count": null,
   "metadata": {},
   "outputs": [],
   "source": [
    "import geopandas as gpd\n",
    "\n",
    "# Define the periphery as the convex hull of the nodes using union_all()\n",
    "periphery_nodes = graph_nodes_gdf.geometry.union_all().convex_hull\n",
    "\n",
    "fig, ax = plt.subplots(figsize=(12, 12))\n",
    "\n",
    "# Plot the roads in Cambridge\n",
    "graph_edges_gdf.plot(ax=ax, edgecolor='gray', linewidth=0.5)\n",
    "\n",
    "# Plot the nodes on the periphery\n",
    "periphery_nodes_gdf = gpd.GeoDataFrame(geometry=[periphery_nodes], crs=graph_nodes_gdf.crs)\n",
    "periphery_nodes_gdf.boundary.plot(ax=ax, color='blue', linewidth=2)\n",
    "\n",
    "plt.title('Nodes on the Periphery and Roads in Cambridge')\n",
    "plt.show()"
   ]
  },
  {
   "cell_type": "code",
   "execution_count": null,
   "metadata": {},
   "outputs": [],
   "source": [
    "fig, ax = plt.subplots(1, 2, figsize=(24, 12))\n",
    "\n",
    "# Plot the walkable roads and buildings near MIT in the first subplot\n",
    "ax1 = ax[0]\n",
    "ox.plot_graph(walkable_roads_near_mit, ax=ax1, show=False, close=False, edge_color='gray', edge_linewidth=0.5)\n",
    "building_footprints_proj.plot(ax=ax1, facecolor='khaki', edgecolor='k', alpha=0.7)\n",
    "ax1.set_title('Walkable Roads and Buildings Near MIT')\n",
    "\n",
    "# Plot all the nodes on the periphery of Cambridge and the roads in Cambridge in the second subplot\n",
    "ax2 = ax[1]\n",
    "graph_edges_gdf.plot(ax=ax2, edgecolor='gray', linewidth=0.5)\n",
    "periphery_nodes_gdf.boundary.plot(ax=ax2, color='blue', linewidth=2)\n",
    "ax2.set_title('Nodes on the Periphery and Roads in Cambridge')\n",
    "\n",
    "plt.show()\n"
   ]
  },
  {
   "cell_type": "markdown",
   "metadata": {
    "colab_type": "text",
    "id": "7sDrc2wzcoIA"
   },
   "source": [
    "## Interactive graph with folium\n",
    "Folium is a library which creates interactive web maps. This can be used to visualize and explore the data. However, it is slower to load and cannot scale to as large networks as the standard matplotlib plotting"
   ]
  },
  {
   "cell_type": "code",
   "execution_count": null,
   "metadata": {
    "colab": {
     "base_uri": "https://localhost:8080/",
     "height": 371
    },
    "colab_type": "code",
    "id": "MH8wPQt5cnNL",
    "outputId": "b41b5cb8-acb9-4b08-b445-e62b8ff8a94c"
   },
   "outputs": [],
   "source": [
    "'''\n",
    "folium_graph = ox.plot_graph_folium(walkable_roads_near_mit)\n",
    "folium_graph\n",
    "'''\n",
    "import osmnx as ox\n",
    "# pip install folium matplotlib mapclassify\n",
    "# Convert the walkable roads graph to GeoDataFrames\n",
    "graph_nodes_gdf, graph_edges_gdf = ox.graph_to_gdfs(walkable_roads_near_mit)\n",
    "\n",
    "# Use the explore method to create an interactive web map\n",
    "map_edges = graph_edges_gdf.explore()\n",
    "\n",
    "# Optionally, you can save the map to an HTML file to view it in a browser\n",
    "map_edges.save('walkable_roads_near_mit.html')\n",
    "\n",
    "# To display the map in a Jupyter notebook\n",
    "map_edges\n"
   ]
  },
  {
   "cell_type": "code",
   "execution_count": null,
   "metadata": {
    "colab": {
     "base_uri": "https://localhost:8080/",
     "height": 371
    },
    "colab_type": "code",
    "id": "jA-JyWRfcuil",
    "outputId": "d0c22e3a-8ca5-402b-a4e0-23ec7a95638c"
   },
   "outputs": [],
   "source": [
    "'''\n",
    "ox.plot_route_folium(walkable_roads_near_mit, route, route_map = folium_graph, color='#ff0000')\n",
    "'''\n",
    "import geopandas as gpd\n",
    "from shapely.geometry import LineString\n",
    "\n",
    "\n",
    "# Extract the route geometry\n",
    "route_nodes_gdf = graph_nodes_gdf.loc[route]\n",
    "route_line = LineString(route_nodes_gdf.geometry.tolist())\n",
    "\n",
    "# Create a GeoDataFrame for the route\n",
    "route_gdf = gpd.GeoDataFrame(geometry=[route_line], crs=graph_edges_gdf.crs)\n",
    "\n",
    "# Add the route to the map\n",
    "map_edges = route_gdf.explore(m=map_edges, color='#ff0000', tooltip=False)\n",
    "\n",
    "# To display the map in a Jupyter notebook\n",
    "map_edges\n"
   ]
  },
  {
   "cell_type": "markdown",
   "metadata": {
    "colab_type": "text",
    "id": "byQI4mwpkGe4"
   },
   "source": [
    "## Get places of interest\n",
    "OSM can also give places of interest, like restaurants, pharmacies, hospitals, and toilets. The full list is available [here](https://wiki.openstreetmap.org/wiki/Key:amenity).\n",
    "\n",
    "Let's look at the POIs near MIT."
   ]
  },
  {
   "cell_type": "code",
   "execution_count": null,
   "metadata": {
    "colab": {
     "base_uri": "https://localhost:8080/",
     "height": 1000
    },
    "colab_type": "code",
    "id": "SesUaN4qjzmq",
    "outputId": "b605698c-a8b0-4895-8cdd-9030dcffa88b",
    "tags": []
   },
   "outputs": [],
   "source": [
    "'''\n",
    "fast_food = ox.geometries.geometries_from_polygon(poly_with_buffer_ll, tags={'amenity': 'fast_food'})\n",
    "'''\n",
    "fast_food = ox.features.features_from_polygon(poly_with_buffer_ll, tags={'amenity': 'fast_food'})\n",
    "fast_food"
   ]
  },
  {
   "cell_type": "code",
   "execution_count": null,
   "metadata": {
    "colab": {},
    "colab_type": "code",
    "id": "PYNXpI3snJn3"
   },
   "outputs": [],
   "source": [
    "walkable_nodes, walkable_edges = ox.graph_to_gdfs(walkable_roads_near_mit)"
   ]
  },
  {
   "cell_type": "code",
   "execution_count": null,
   "metadata": {
    "colab": {
     "base_uri": "https://localhost:8080/",
     "height": 781
    },
    "colab_type": "code",
    "id": "EhFovfU7k9Yk",
    "outputId": "b0b1f850-7fe1-4171-8983-3df720a9cc29"
   },
   "outputs": [],
   "source": [
    "# plot roads, buildings, and fast_food\n",
    "fig, ax = plt.subplots(1,1, figsize=[20,20])\n",
    "building_footprints.plot(ax=ax)\n",
    "walkable_edges.plot(ax=ax, color='black')\n",
    "fast_food.plot(ax=ax, color='#FF0099', markersize=50)\n",
    "plt.show()"
   ]
  },
  {
   "cell_type": "markdown",
   "metadata": {
    "colab_type": "text",
    "id": "tcNVMmwpog-P"
   },
   "source": [
    "# Exercise\n",
    "In groups, pick a location, ask an interesting question, do an analysis to answer that question.\n"
   ]
  },
  {
   "cell_type": "code",
   "execution_count": null,
   "metadata": {
    "colab": {},
    "colab_type": "code",
    "id": "KQR1P_NrpFJl"
   },
   "outputs": [],
   "source": [
    "#Problem: Analyze the Density and Distribution of Fast-Food Restaurants near MIT\n",
    "import matplotlib.patches as mpatches\n",
    "#Plot roads, buildings, and fast_food locations\n",
    "fig, ax = plt.subplots(1, 1, figsize=[20, 20])\n",
    "building_footprints.plot(ax=ax, facecolor='khaki', edgecolor='k', alpha=0.7)\n",
    "graph_edges_gdf.plot(ax=ax, color='black', linewidth=1)\n",
    "fast_food.plot(ax=ax, color='#FF0099', markersize=50)\n",
    "\n",
    "# Custom legend handles\n",
    "building_patch = mpatches.Patch(color='khaki', label='Buildings')\n",
    "road_line = mpatches.Patch(color='black', label='Walkable Roads')\n",
    "fast_food_patch = mpatches.Patch(color='#FF0099', label='Fast Food Locations')\n",
    "\n",
    "plt.legend(handles=[building_patch, road_line, fast_food_patch])\n",
    "plt.title('Walkable Roads, Buildings, and Fast-Food Locations near MIT')\n",
    "plt.show()"
   ]
  },
  {
   "cell_type": "code",
   "execution_count": null,
   "metadata": {},
   "outputs": [],
   "source": [
    "import osmnx as ox\n",
    "import matplotlib.pyplot as plt\n",
    "import matplotlib.patches as mpatches\n",
    "import geopandas as gpd\n",
    "from shapely.ops import nearest_points\n",
    "\n",
    "# Ensure all GeoDataFrames are in the same CRS (e.g., EPSG:3857)\n",
    "common_crs = 'epsg:3857'\n",
    "fast_food = fast_food.to_crs(common_crs)\n",
    "graph_edges_gdf = graph_edges_gdf.to_crs(common_crs)\n",
    "building_footprints = building_footprints.to_crs(common_crs)\n",
    "\n",
    "# 1. Calculate the Number of Fast-Food Locations\n",
    "num_fast_food = len(fast_food)\n",
    "print(f\"Number of Fast-Food Locations: {num_fast_food}\")\n",
    "\n",
    "# 2. Determine Proximity to Walkable Roads\n",
    "def calculate_nearest_distance(gdf1, gdf2):\n",
    "    gdf2_union = gdf2.geometry.union_all() if len(gdf2) > 1 else gdf2.geometry.iloc[0]\n",
    "    return gdf1.geometry.apply(lambda geom: geom.distance(nearest_points(geom, gdf2_union)[1]))\n",
    "\n",
    "# Calculate distance to the nearest walkable road\n",
    "fast_food['nearest_road_dist'] = calculate_nearest_distance(fast_food, graph_edges_gdf)\n",
    "avg_distance_to_road = fast_food['nearest_road_dist'].mean()\n",
    "print(f\"Average Distance from Fast-Food Locations to Walkable Roads: {avg_distance_to_road:.2f} meters\")\n",
    "\n",
    "# Diagnostic: Print first few distance values to check calculations\n",
    "print(fast_food[['nearest_road_dist']].head())\n",
    "\n",
    "# 3. Determine Proximity to Buildings\n",
    "# Calculate distance to the nearest building using centroids\n",
    "building_centroids = building_footprints.centroid\n",
    "fast_food_centroids = fast_food.geometry.centroid\n",
    "\n",
    "def calculate_centroid_nearest_distance(gdf1, gdf2):\n",
    "    gdf2_union = gdf2.geometry.union_all() if len(gdf2) > 1 else gdf2.geometry.iloc[0]\n",
    "    return gdf1.apply(lambda geom: geom.distance(nearest_points(geom, gdf2_union)[1]))\n",
    "\n",
    "fast_food['nearest_building_dist'] = calculate_centroid_nearest_distance(fast_food_centroids, building_centroids)\n",
    "avg_distance_to_building = fast_food['nearest_building_dist'].mean()\n",
    "print(f\"Average Distance from Fast-Food Locations to Buildings: {avg_distance_to_building:.2f} meters\")\n",
    "\n",
    "# Diagnostic: Print first few distance values to check calculations\n",
    "print(fast_food[['nearest_building_dist']].head())\n",
    "\n",
    "# Verify with median distance to avoid skewness by outliers\n",
    "median_distance_to_building = fast_food['nearest_building_dist'].median()\n",
    "print(f\"Median Distance from Fast-Food Locations to Buildings: {median_distance_to_building:.2f} meters\")\n",
    "\n",
    "# Verify by plotting the distribution of distances\n",
    "fast_food['nearest_building_dist'].plot(kind='hist', bins=30, title='Distribution of Distances to Buildings')\n",
    "plt.xlabel('Distance to Nearest Building (meters)')\n",
    "plt.show()\n",
    "\n",
    "# 4. Visualize and Summarize the Findings\n",
    "# Plot roads, buildings, and fast_food locations\n",
    "fig, ax = plt.subplots(1, 1, figsize=[20, 20])\n",
    "building_footprints.plot(ax=ax, facecolor='khaki', edgecolor='k', alpha=0.7)\n",
    "graph_edges_gdf.plot(ax=ax, color='black', linewidth=1)\n",
    "fast_food.plot(ax=ax, color='#FF0099', markersize=50)\n",
    "\n",
    "# Custom legend handles\n",
    "building_patch = mpatches.Patch(color='khaki', label='Buildings')\n",
    "road_line = mpatches.Patch(color='black', label='Walkable Roads')\n",
    "fast_food_patch = mpatches.Patch(color='#FF0099', label='Fast Food Locations')\n",
    "\n",
    "plt.legend(handles=[building_patch, road_line, fast_food_patch])\n",
    "plt.title('Walkable Roads, Buildings, and Fast-Food Locations near MIT')\n",
    "plt.show()\n",
    "\n",
    "# Summary of findings\n",
    "print(f\"Summary of Findings:\\n\"\n",
    "      f\"- Number of Fast-Food Locations: {num_fast_food}\\n\"\n",
    "      f\"- Average Distance from Fast-Food Locations to Walkable Roads: {avg_distance_to_road:.2f} meters\\n\"\n",
    "      f\"- Average Distance from Fast-Food Locations to Buildings: {avg_distance_to_building:.2f} meters\\n\"\n",
    "      f\"- Median Distance from Fast-Food Locations to Buildings: {median_distance_to_building:.2f} meters\")\n"
   ]
  },
  {
   "cell_type": "markdown",
   "metadata": {},
   "source": [
    "# Analysis\n",
    "\n",
    "Interpretation of Results:\n",
    "\n",
    "Number of Fast-Food Locations: There are 43 fast-food locations within the studied area.\n",
    "\n",
    "Average Distance to Walkable Roads: The average distance from fast-food locations to the nearest walkable road is 13.30 meters, \n",
    "indicating that fast-food locations are generally very accessible by walkable roads.\n",
    "\n",
    "Average Distance to Buildings: The average distance from fast-food locations to the nearest building is 24.73 meters. \n",
    "This might suggest that some fast-food locations are relatively close to buildings, but there are also outliers which increase the average.\n",
    "\n",
    "Median Distance to Buildings: The median distance from fast-food locations to the nearest building is 14.10 meters, \n",
    "which is lower than the average. This indicates that most fast-food locations are quite close to buildings, \n",
    "but there are a few outliers that are further away, which increases the average distance."
   ]
  },
  {
   "cell_type": "code",
   "execution_count": null,
   "metadata": {},
   "outputs": [],
   "source": []
  }
 ],
 "metadata": {
  "colab": {
   "collapsed_sections": [
    "H96qB6LdSggm"
   ],
   "include_colab_link": true,
   "name": "04_Intro_to_networks.ipynb",
   "provenance": [],
   "version": "0.3.2"
  },
  "kernelspec": {
   "display_name": "Python 3 (ipykernel)",
   "language": "python",
   "name": "python3"
  },
  "language_info": {
   "codemirror_mode": {
    "name": "ipython",
    "version": 3
   },
   "file_extension": ".py",
   "mimetype": "text/x-python",
   "name": "python",
   "nbconvert_exporter": "python",
   "pygments_lexer": "ipython3",
   "version": "3.11.6"
  }
 },
 "nbformat": 4,
 "nbformat_minor": 4
}
