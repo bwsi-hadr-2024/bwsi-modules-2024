{
 "cells": [
  {
   "cell_type": "markdown",
   "metadata": {
    "colab_type": "text",
    "id": "cPoRdj25oN4s"
   },
   "source": [
    "# Plotting and shapes in python\n",
    "In this lesson we're going to look at how to present data visually. Visualization is a key part of the analysis workflow. It can reveal insights about data, and its relationships to other variables. It is also an integral tool for communicating data and ideas.\n",
    "\n",
    "We will cover tools for plotting graphs (line, scatter, bar charts, etc), as well as shapes in this lecture.\n"
   ]
  },
  {
   "cell_type": "markdown",
   "metadata": {
    "colab_type": "text",
    "id": "R-POaeC7tY8c"
   },
   "source": [
    "# Plotting with matplotlib\n",
    "\n",
    "Matplotlib is the most widely used package for scientific visualization in python. It has a lot of features, but the documentation can be confusing, and the default styles aren't particularly attractive. Nevertheless, knowing how to use matplotlib is fundamental for data science with python. "
   ]
  },
  {
   "cell_type": "code",
   "execution_count": null,
   "metadata": {
    "colab": {},
    "colab_type": "code",
    "id": "W8ATbTRUoH24"
   },
   "outputs": [],
   "source": [
    "import matplotlib as mpl\n",
    "from matplotlib import pyplot as plt #pyplot is a subpackage of matplotlib, and provides the interface that we'll use to create plots\n",
    "import numpy as np"
   ]
  },
  {
   "cell_type": "markdown",
   "metadata": {
    "colab_type": "text",
    "id": "jMZ6W_zXFjoD"
   },
   "source": [
    "## Matplotlib conventions\n",
    "There are (confusingly) two different ways to do most things in matplotlib. \n",
    "\n",
    "The first is the MATLAB style interface, which functions as a state machine. Commands are run on a global scope and affect the _current_ figure or axis that you're working on. This is convenient for quick plotting without worrying about the fine-grained details of the plot.\n",
    "\n",
    "The second is the object-oriented interface, which is more \"pythonic\". Figures and axes are _objects_ which have methods and attributes associated with them for plotting and adjusting their appearance. This provides finer-grained control over the plots.\n",
    "\n",
    "It's possible to mix and match between the two interfaces, which can cause confusion for new coders trying to learn how matplotlib works. Just remember there are two ways to do most plotting tasks in matplotlib, so if you see things done differently, that's probably the reason.\n",
    "\n",
    "For this course, we will primarily be using the object-oriented interface, since it aligns better with most of the course material."
   ]
  },
  {
   "cell_type": "markdown",
   "metadata": {
    "colab_type": "text",
    "id": "kj_PoFN0HvHq"
   },
   "source": [
    "## Figures and axes\n",
    "A `Figure` object is a canvas that can hold one or more `Axes` objects. `Axes` are objects which hold the actual plots. (Think of the `Figure` as a piece of paper, and the `Axes` as the actual illustration)"
   ]
  },
  {
   "cell_type": "code",
   "execution_count": null,
   "metadata": {
    "colab": {
     "base_uri": "https://localhost:8080/",
     "height": 351
    },
    "colab_type": "code",
    "id": "5blbFZGZoNqc",
    "outputId": "2fbc48db-4991-4a51-9d95-f8db5682fd4a"
   },
   "outputs": [],
   "source": [
    "fig = plt.figure()\n",
    "ax = fig.add_axes([0,0,1,1]) # arguments are location of [left, bottom, width, height], where the units are fraction of the figure\n",
    "x_data = np.arange(0,10,0.5) # points evenly spaced between 0 and 10 with interval of 0.5\n",
    "y_data = 3*x_data + 2 + 0.8*np.random.randn(len(x_data)) # linear + random noise\n",
    "ax.plot(x_data, y_data, marker='o') # 'o' = circle marker; points are marked by circles"
   ]
  },
  {
   "cell_type": "markdown",
   "metadata": {},
   "source": [
    "A full list of markers is available [here](https://matplotlib.org/3.2.2/api/markers_api.html)."
   ]
  },
  {
   "cell_type": "markdown",
   "metadata": {
    "colab_type": "text",
    "id": "cclx1plhLDAN"
   },
   "source": [
    "### Subplots\n",
    "Sometimes you want to add multiple plots on the same figure. You can use the `.add_subplot(nrows, ncols, idx)` function of `Figure` to do so.\n",
    "\n",
    "Subplots are set up in a grid, determined by the arguments `nrows, ncols` of the `.add_subplot` function; the `idx` argument determines the location of the created subplot.\n",
    "\n",
    "For example, `fig.add_subplot(2,2,3)` creates a 2 $\\times$ 2 grid, and the idx value of 3 refers to the bottom left grid element.\n",
    "```\n",
    "1 2\n",
    "3 4\n",
    "```\n",
    "\n",
    "In general the indexing convention is left to right on each line:\n",
    "\n",
    "```\n",
    "1 2 ... ncols\n",
    "ncols+1 ... \n",
    "2*ncols+1 ...\n",
    "...\n",
    "```"
   ]
  },
  {
   "cell_type": "code",
   "execution_count": null,
   "metadata": {
    "colab": {
     "base_uri": "https://localhost:8080/",
     "height": 369
    },
    "colab_type": "code",
    "id": "TdoX3zebJMb3",
    "outputId": "6ec68286-011d-4235-b96c-2083d8e538d0"
   },
   "outputs": [],
   "source": [
    "fig = plt.figure(figsize=[10,5]) #figure size, in inches\n",
    "ax1 = fig.add_subplot(2,2,1) # \n",
    "ax2 = fig.add_subplot(2,2,3)\n",
    "ax3 = fig.add_subplot(1,2,2) # subplots don't all have to be on the same grid\n",
    "\n",
    "x_data = np.linspace(1,10,100)\n",
    "ax1.plot([0,2], [1,5]) # simply plots a line from (0,1) to (2,5)\n",
    "ax2.plot(x_data, np.sin(x_data))\n",
    "ax3.plot(x_data, x_data**2)\n",
    "\n",
    "# label each one\n",
    "ax1.set_title('This is ax1') # sets a title on ax1\n",
    "ax2.set_title('This is ax2')\n",
    "ax2.set_xlabel('x') # set xlabel\n",
    "ax2.set_ylabel('sin(x)') # set ylabel\n",
    "\n",
    "# it can be more convenient to set all of the labels and limits at once\n",
    "ax3.set(xlim=(0, 10), ylim=(0, 100),\n",
    "       xlabel='x', ylabel='$x^2$',\n",
    "       title='This is ax3'); # encase math in $$ to render exponentiation and other math notation\n",
    "\n",
    "fig.tight_layout() # a function to clean up the spacing between subplots"
   ]
  },
  {
   "cell_type": "markdown",
   "metadata": {
    "colab_type": "text",
    "id": "0HG4jcIcPUry"
   },
   "source": [
    "### Appearance\n"
   ]
  },
  {
   "cell_type": "code",
   "execution_count": null,
   "metadata": {
    "colab": {
     "base_uri": "https://localhost:8080/",
     "height": 262
    },
    "colab_type": "code",
    "id": "6AJCKIqzKzdn",
    "outputId": "8f68f6fd-966a-4b75-f0d1-cd1f154fa4c5"
   },
   "outputs": [],
   "source": [
    "# Change colors of lines\n",
    "fig = plt.figure(figsize=[8,4])\n",
    "ax = fig.add_subplot(1,1,1) # create an axis that covers the whole figure\n",
    "x = np.linspace(-5,5,100)\n",
    "ax.plot(x, np.sin(x - 0), color='black')       # specify color by name\n",
    "ax.plot(x, np.sin(x - 1), color='g')           # short color code (rgbcmyk)\n",
    "ax.plot(x, np.sin(x - 2), color='0.5')         # Grayscale between 0 and 1\n",
    "ax.plot(x, np.sin(x - 3), color='#00DDFF')     # Hex code (RRGGBB from 00 to FF) with FF being max and 00 being min\n",
    "ax.plot(x, np.sin(x - 4), color=(1.0,0.2,0.3)) # RGB tuple, values 0 to 1\n",
    "ax.plot(x, np.sin(x - 5), color='chartreuse'); # all HTML color names supported"
   ]
  },
  {
   "cell_type": "code",
   "execution_count": null,
   "metadata": {
    "colab": {
     "base_uri": "https://localhost:8080/",
     "height": 371
    },
    "colab_type": "code",
    "id": "x2eVLMdNK-u-",
    "outputId": "d3f0a7af-0726-44a8-beab-c018cefd6095"
   },
   "outputs": [],
   "source": [
    "# Change linestyle\n",
    "fig = plt.figure(figsize=[8,6])\n",
    "ax = fig.add_subplot(1,1,1)\n",
    "ax.plot(x, x + 0, linestyle='solid')\n",
    "ax.plot(x, x + 1, linestyle='dashed')\n",
    "ax.plot(x, x + 2, linestyle='dashdot')\n",
    "ax.plot(x, x + 3, linestyle='dotted');\n",
    "\n",
    "# For short, you can use the following codes:\n",
    "ax.plot(x, x + 4, linestyle='-')  # solid\n",
    "ax.plot(x, x + 5, linestyle='--') # dashed\n",
    "ax.plot(x, x + 6, linestyle='-.') # dashdot\n",
    "ax.plot(x, x + 7, linestyle=':'); # dotted"
   ]
  },
  {
   "cell_type": "markdown",
   "metadata": {
    "colab_type": "text",
    "id": "Ii-BW0S6tpe_"
   },
   "source": [
    "There are also [bar charts](https://matplotlib.org/3.1.1/api/_as_gen/matplotlib.pyplot.bar.html#matplotlib.pyplot.bar), [pie charts](https://matplotlib.org/3.1.1/gallery/pie_and_polar_charts/nested_pie.html#sphx-glr-gallery-pie-and-polar-charts-nested-pie-py), and [many other tutorials in the matplotlib documentation](https://matplotlib.org/3.1.1/tutorials/introductory/sample_plots.html#sphx-glr-tutorials-introductory-sample-plots-py). Check them out for inspiration!"
   ]
  },
  {
   "cell_type": "markdown",
   "metadata": {
    "colab_type": "text",
    "id": "ahcW_XmxvA-2"
   },
   "source": [
    "## Exercise\n",
    "Using any data that you looked at earlier this week, make a plot that visualizes some element of your analysis. We'll ask a few people to present their results when they're ready.\n",
    "\n",
    "Matplotlib can take numpy arrays or pandas series and dataframes as inputs. In addition, pandas dataframes have [a built-in interface to automatically call matplotlib functions](https://pandas.pydata.org/pandas-docs/stable/user_guide/visualization.html). This can be a convenient way to visualize for exploratory analysis. However, it's less customizable, so it may not be suitable for making presentation-quality graphs."
   ]
  },
  {
   "cell_type": "code",
   "execution_count": null,
   "metadata": {
    "colab": {},
    "colab_type": "code",
    "id": "LPYOcEpswPhF"
   },
   "outputs": [],
   "source": []
  },
  {
   "cell_type": "markdown",
   "metadata": {
    "colab_type": "text",
    "id": "OLu4MBP69q6T"
   },
   "source": [
    "# Shapes and Geometry\n",
    "\n",
    "For geospatial data analysis, we will be dealing with a lot of geometry. The library that we will be using for geometry is called Shapely.\n",
    "\n",
    "Shapely is a _planar geometry_ package. Meaning that it is concerned with 2Dgeometry, making it well suited for representing and analyzing information on maps.\n",
    "\n",
    "This content is based off of the [Automating GIS Processes course](https://automating-gis-processes.github.io/2018/) from the University of Helsinki."
   ]
  },
  {
   "cell_type": "code",
   "execution_count": null,
   "metadata": {
    "scrolled": true
   },
   "outputs": [],
   "source": [
    "!pip install descartes"
   ]
  },
  {
   "cell_type": "code",
   "execution_count": null,
   "metadata": {
    "colab": {},
    "colab_type": "code",
    "id": "eGxA0wEJQPEs"
   },
   "outputs": [],
   "source": [
    "import shapely\n",
    "from matplotlib import pyplot as plt\n",
    "from shapely.geometry import Point, LineString, Polygon\n",
    "from descartes import PolygonPatch\n",
    "import numpy as np"
   ]
  },
  {
   "cell_type": "markdown",
   "metadata": {
    "colab_type": "text",
    "id": "Z2eO3jRJSf0x"
   },
   "source": [
    "## Shapely objects\n",
    "Shapely is a library for representing geometric objects, such as points, lines, and polygons. \n",
    "\n",
    "The primary classes in Shapely are the `Point`, `LineString`, and `Polygon` classes. Each are represented using 2 or 3-dimensional coordinate tuples (x,y(,z)).\n",
    "\n",
    "- The `Point` object represents a single point in space. Points can be either two-dimensional (x, y) or three dimensional (x, y, z).\n",
    "- The `LineString` object (i.e. a line) represents a sequence of points joined together to form a line. Hence, a line consists of a list of at least two coordinate tuples.\n",
    "- The `Polygon` object represents a filled area that consists of a list of at least three coordinate tuples that forms the outerior ring and a (possible) list of hole polygons.\n",
    "\n",
    "There are also collections of objects, aptly named `MultiPoint`, `MultiLineString`, and `MultiPolygon`. These are, as their names suggest, collections of multiple `Point`, `LineString`, and `Polygon` objects respectively. There also exists a broader class of `GeometryCollection`, which can include objects of any geometry type.\n"
   ]
  },
  {
   "cell_type": "markdown",
   "metadata": {
    "colab_type": "text",
    "id": "kW6HjI5mVZrt"
   },
   "source": [
    "## `Point` objects\n",
    "\n",
    "`Points` require a tuple (2 for 2D, 3 for 3D) to specify their location."
   ]
  },
  {
   "cell_type": "code",
   "execution_count": null,
   "metadata": {
    "colab": {
     "base_uri": "https://localhost:8080/",
     "height": 69
    },
    "colab_type": "code",
    "id": "aTfLuqlFVkWF",
    "outputId": "248f3fd9-06ce-4e7a-e431-76f4623f24d1"
   },
   "outputs": [],
   "source": [
    "# Create Point geometric object(s) with coordinates\n",
    "point1 = Point(2.2, 4.2)\n",
    "point2 = Point(7.2, -25.1)\n",
    "point3 = Point(9.26, -2.456)\n",
    "point3D = Point(9.26, -2.456, 0.57)\n",
    "point3D2 = Point(9.26, -2.456, 0)\n",
    "\n",
    "# What is the type of the point?\n",
    "point_type = type(point1)\n",
    "\n",
    "# Let's examine the objects\n",
    "print(point1)\n",
    "print(point3D)\n",
    "print(type(point1))"
   ]
  },
  {
   "cell_type": "markdown",
   "metadata": {
    "colab_type": "text",
    "id": "WAG3BuauWloM"
   },
   "source": [
    "We can see that the type of the point is shapely's `Point` which is represented in a specific format that is based on [GEOS C++ library](https://trac.osgeo.org/geos), which is one of the standard libraries in GIS. 3D-point can be recognized from the capital '`Z`' in front of the coordinates (signifying that there's a 'z' element in the (x,y,z) tuple)\n"
   ]
  },
  {
   "cell_type": "markdown",
   "metadata": {
    "colab_type": "text",
    "id": "K0Og713eXLuf"
   },
   "source": [
    "### `Point` class attributes and functions\n",
    "`Point` objects have some built-in attributes and functions. One of the most useful ones are the ability to extract the coordinates of a Point and calculate the Euclidean distance between points.\n"
   ]
  },
  {
   "cell_type": "code",
   "execution_count": null,
   "metadata": {
    "colab": {
     "base_uri": "https://localhost:8080/",
     "height": 36
    },
    "colab_type": "code",
    "id": "InP-kYL6WZQn",
    "outputId": "46b51b3e-b1c0-41e5-ef3c-560c37f79e2d"
   },
   "outputs": [],
   "source": [
    "# Get the coordinates\n",
    "point_coords = point1.coords\n",
    "\n",
    "# What is the type of this?\n",
    "type(point_coords)"
   ]
  },
  {
   "cell_type": "code",
   "execution_count": null,
   "metadata": {
    "colab": {
     "base_uri": "https://localhost:8080/",
     "height": 167
    },
    "colab_type": "code",
    "id": "nmGyLHzfW2MK",
    "outputId": "6d760ac0-f224-4224-a8b5-e25ac6b92744"
   },
   "outputs": [],
   "source": [
    "# Get x and y coordinates\n",
    "xy = point_coords.xy\n",
    "\n",
    "# Get only x coordinates of Point1\n",
    "x = point1.x\n",
    "\n",
    "# Whatabout y coordinate?\n",
    "y = point1.y\n",
    "\n",
    "# Print out\n",
    "print(\"xy variable:\\n\", xy, \"\\n\")\n",
    "print(\"x variable:\\n\", x, \"\\n\")\n",
    "print(\"y variable:\\n\", y)"
   ]
  },
  {
   "cell_type": "code",
   "execution_count": null,
   "metadata": {
    "colab": {
     "base_uri": "https://localhost:8080/",
     "height": 36
    },
    "colab_type": "code",
    "id": "85yXDkIOfw_Z",
    "outputId": "3ea941e6-8525-4e74-e7cd-add386c251f9"
   },
   "outputs": [],
   "source": [
    "# Calculate the distance between point1 and point2\n",
    "point_dist = point1.distance(point2)\n",
    "\n",
    "print(\"Distance between the points is {0:.2f} decimal degrees\".format(point_dist))"
   ]
  },
  {
   "cell_type": "code",
   "execution_count": null,
   "metadata": {
    "colab": {
     "base_uri": "https://localhost:8080/",
     "height": 36
    },
    "colab_type": "code",
    "id": "sFCBm41Pf0Rs",
    "outputId": "9f999d35-7796-4ee9-8f60-995e8bb69d0f"
   },
   "outputs": [],
   "source": [
    "np.sqrt((2.2-7.2)**2 + (4.2+25.1)**2)"
   ]
  },
  {
   "cell_type": "markdown",
   "metadata": {
    "colab_type": "text",
    "id": "KKyze6mDgSv-"
   },
   "source": [
    "Note that shapely is planar geometry library, and thus only considers the planar (x,y) coordinates when computing distance. \n",
    "Even though `point3D` and `point3D2` have differing `Z` coordinates, they return a planar distance of zero. "
   ]
  },
  {
   "cell_type": "code",
   "execution_count": null,
   "metadata": {
    "colab": {
     "base_uri": "https://localhost:8080/",
     "height": 73
    },
    "colab_type": "code",
    "id": "6mblpggBgK44",
    "outputId": "d4ef4e0d-5964-4ffb-ee4a-580c5fe665d7"
   },
   "outputs": [],
   "source": [
    "print(point3D)\n",
    "print(point3D2)\n",
    "point3D.distance(point3D2)"
   ]
  },
  {
   "cell_type": "markdown",
   "metadata": {},
   "source": [
    "## Exercise\n",
    "\n",
    "Let's put the `distance` function into action. Write a function that takes in a list of points and calculates the distance between the two closest points."
   ]
  },
  {
   "cell_type": "code",
   "execution_count": null,
   "metadata": {},
   "outputs": [],
   "source": [
    "def getClosestDist(points_list):\n",
    "  \"\"\"\n",
    "  input: points_list, list of Points - a list of shapely Point objects\n",
    "  output: dist, float - the distance between the two closest points in points_list\n",
    "  \"\"\"\n",
    "  # fill this in with your code\n",
    "  return dist"
   ]
  },
  {
   "cell_type": "markdown",
   "metadata": {
    "colab_type": "text",
    "id": "DVtosdJKmaeS"
   },
   "source": [
    "## LineString Objects\n",
    "A `LineString` is a sequence of connected line segments. One can be constructed from a list of shapely `Point` objects, or from a list of tuples"
   ]
  },
  {
   "cell_type": "code",
   "execution_count": null,
   "metadata": {
    "colab": {
     "base_uri": "https://localhost:8080/",
     "height": 204
    },
    "colab_type": "code",
    "id": "HGsQDXWpmy51",
    "outputId": "4bdfac59-9d27-4326-bfa0-7cba68003e00"
   },
   "outputs": [],
   "source": [
    "# Create a LineString from our Point objects\n",
    "line = LineString([point1, point2, point3])\n",
    "\n",
    "# It is also possible to use coordinate tuples having the same outcome\n",
    "line2 = LineString([(2.2, 4.2), (7.2, -25.1), (9.26, -2.456)])\n",
    "\n",
    "# Print the results\n",
    "print(\"line variable: \\n\", line, \"\\n\")\n",
    "print(\"line2 variable: \\n\", line2, \"\\n\")\n",
    "print(\"is line equal to line2: \", line==line2, \"\\n\")\n",
    "print(\"type of the line: \\n\", type(line))"
   ]
  },
  {
   "cell_type": "markdown",
   "metadata": {
    "colab_type": "text",
    "id": "YHC2sjAunZxG"
   },
   "source": [
    "### `LineString` class attributes and functions\n",
    "`LineString` objects have many useful built-in attributes and functionalities. \n",
    "\n",
    "It is, for instance, possible to extract the coordinates or the length of a LineString (line), calculate the centroid of the line, create points along the line at specific distance, calculate the closest distance from a line to specified `Point` and simplify the geometry. See full list of functionalities from [Shapely documentation](https://shapely.readthedocs.io/en/latest/manual.html#geometric-objects). \n",
    "\n"
   ]
  },
  {
   "cell_type": "code",
   "execution_count": null,
   "metadata": {
    "colab": {
     "base_uri": "https://localhost:8080/",
     "height": 92
    },
    "colab_type": "code",
    "id": "-taIq5GEnIPL",
    "outputId": "f6bab6e6-0644-4360-cfad-3e349729b511"
   },
   "outputs": [],
   "source": [
    "# Get list of coordinates\n",
    "print(list(line.coords))\n",
    "\n",
    "# Get x and y elements of the line separately (useful for plotting)\n",
    "lxy = line.xy\n",
    "print('lxy=',lxy)\n",
    "\n",
    "# we can separate the outputs into the x and y variables respectively\n",
    "line_x, line_y = lxy\n",
    "print('x coordinates: ', line_x)\n",
    "print('y coordinates: ', line_y)"
   ]
  },
  {
   "cell_type": "markdown",
   "metadata": {
    "colab_type": "text",
    "id": "AZhrAcKzrJD8"
   },
   "source": [
    "We can use matplotlib to plot this `LineString`\n",
    "\n"
   ]
  },
  {
   "cell_type": "code",
   "execution_count": null,
   "metadata": {
    "colab": {
     "base_uri": "https://localhost:8080/",
     "height": 288
    },
    "colab_type": "code",
    "id": "m0V5wtSgpZeE",
    "outputId": "8cfa8e16-7d16-4a2a-9161-bb77aa1768f1"
   },
   "outputs": [],
   "source": [
    "fig = plt.figure()\n",
    "ax = fig.add_subplot(1,1,1)\n",
    "ax.plot(line_x, line_y, 'b-') # draw as blue line"
   ]
  },
  {
   "cell_type": "markdown",
   "metadata": {
    "colab_type": "text",
    "id": "y3A7ebQAr-Jh"
   },
   "source": [
    "There are also many useful attributes of the linestring that we can get automatically:"
   ]
  },
  {
   "cell_type": "code",
   "execution_count": null,
   "metadata": {
    "colab": {
     "base_uri": "https://localhost:8080/",
     "height": 73
    },
    "colab_type": "code",
    "id": "sq2L37kMrgQE",
    "outputId": "0e9cf2bd-3edb-4609-c2e4-d40159b4085b"
   },
   "outputs": [],
   "source": [
    "# Get the length of the line\n",
    "l_length = line.length\n",
    "print(\"Length of our line: {0:.2f}\".format(l_length)) # the {0:.2f} notation is a special placeholder for the .format() string function. \n",
    "# the curly brackets {} indicate that this should be filled with a variable value. The initial {0} indicates that it should be filled with the first argument of .format()\n",
    "# the {:.2f} part of the placeholder indicates the formatting. The colon specifies that it is a formatting string, and .2f indicates that it should have 2 digits after the decimal point\n",
    "# f indicates that it should be numeric (float)\n",
    "\n",
    "# Get the centroid of all the points in the linestring\n",
    "l_centroid = line.centroid\n",
    "print(\"Centroid of our line: \", l_centroid)\n",
    "\n",
    "# the centroid is a Point type object\n",
    "centroid_type = type(l_centroid)\n",
    "print(\"Type of the centroid:\", centroid_type)"
   ]
  },
  {
   "cell_type": "markdown",
   "metadata": {
    "colab_type": "text",
    "id": "1a2MaC_Vv5lq"
   },
   "source": [
    "We can plot the location of the centroid (average location of all points, equally weighted)."
   ]
  },
  {
   "cell_type": "code",
   "execution_count": null,
   "metadata": {
    "colab": {
     "base_uri": "https://localhost:8080/",
     "height": 288
    },
    "colab_type": "code",
    "id": "ld7FJUcAsIv-",
    "outputId": "36873ac1-23ae-419d-ed52-e3195e34aca9"
   },
   "outputs": [],
   "source": [
    "l_centroid_x, l_centroid_y = l_centroid.xy\n",
    "fig = plt.figure()\n",
    "ax = fig.add_subplot(1,1,1)\n",
    "ax.plot(line_x, line_y, 'b-') # draw as blue line\n",
    "ax.plot(l_centroid_x, l_centroid_y, 'ro', markersize=10)"
   ]
  },
  {
   "cell_type": "markdown",
   "metadata": {
    "colab_type": "text",
    "id": "AGKuTQ9zwGeK"
   },
   "source": [
    "### Exercise: Compute and plot midpoint of a LineString\n",
    "The centroid gives the arithmetic average of all of the points in the LineString. However, it is also useful to know where the midpoint of a LineString is. That is, if you were traveling along the LineString from one end to the other, at which point would the distance you've traveled be equal to the distance you have yet to travel.\n",
    "\n",
    "For this exercise, write a function which takes any valid `LineString` object as an input, outputs the coordinates of the midpoint, and draws a plot of both the LineString and midpoint."
   ]
  },
  {
   "cell_type": "code",
   "execution_count": null,
   "metadata": {
    "colab": {},
    "colab_type": "code",
    "id": "OUSl-3wEtPKp"
   },
   "outputs": [],
   "source": [
    "def getMidpoint(line):\n",
    "  \"\"\"\n",
    "  input: line, LineString - any valid shapely LineString object\n",
    "  output: midpoint, Point - a shapely Point object corresponding to the midpoint of the input LineString\n",
    "  Also plot the input LineString as well as the midpoint\n",
    "  \"\"\"\n",
    "  # fill this in with your code\n",
    "  return midpoint"
   ]
  },
  {
   "cell_type": "markdown",
   "metadata": {
    "colab_type": "text",
    "id": "IvjUoAh0hZQL"
   },
   "source": [
    "_Note there is an `interpolate` method in shapely that makes this trivial. Try to do it without using it. You can use `interpolate` to check your work._ "
   ]
  },
  {
   "cell_type": "markdown",
   "metadata": {},
   "source": [
    "Now, generalize your function such that it takes both a `LineString` object and a floating-point value `d` and outputs the \"interpolation point\": the point that is exactly `d` of the way on the `LineString`. In other words, the interpolation point is the point you would be at if you were to travel `d` * (length of the `LineString`) along the `LineString`. "
   ]
  },
  {
   "cell_type": "code",
   "execution_count": null,
   "metadata": {},
   "outputs": [],
   "source": [
    "def getInterpolation(line, d):\n",
    "    \"\"\"\n",
    "    input: line, LineString - any valid shapely LineString object\n",
    "           d, float (0.0 <= d <= 1.0) - the fraction along the line to interpolate\n",
    "    output: interpolationPoint, Point - a shapely Point object corresponding to the midpoint of the input LineString\n",
    "    Also plot the input LineString as well as the interplation point\n",
    "    \"\"\"\n",
    "    # fill this in with your code    \n",
    "    return interpolationPoint"
   ]
  },
  {
   "cell_type": "markdown",
   "metadata": {},
   "source": [
    "_Again, try to do this without using the `interpolate` method. In fact, what you are doing here is essentially implementing Shapely's `interpolate` method._"
   ]
  },
  {
   "cell_type": "markdown",
   "metadata": {
    "colab_type": "text",
    "id": "IX6aH-y0xfMC"
   },
   "source": [
    "## Polygon object\n",
    "\n",
    "Creating a `Polygon` object continues the same logic of how `Point` and `LineString` were created, but the `Polygon` object accepts only coordinate-tuples as input."
   ]
  },
  {
   "cell_type": "code",
   "execution_count": null,
   "metadata": {
    "colab": {
     "base_uri": "https://localhost:8080/",
     "height": 54
    },
    "colab_type": "code",
    "id": "Niv6azGoSR39",
    "outputId": "37175bd2-9c10-4563-bae4-d1cccedf859b"
   },
   "outputs": [],
   "source": [
    "# Create a Polygon from coordinates\n",
    "poly = Polygon([(2.2, 4.2), (7.2, -25.1), (9.26, -2.456)])\n",
    "\n",
    "# We can also use our previously created Point objects (same outcome)\n",
    "# --> notice that Polygon object requires x,y coordinates as input\n",
    "poly2_coords = [(p.x, p.y) for p in [point1, point2, point3]]# using list comprehension to generate a list of coordinates\n",
    "print('coords from point objects are:', poly2_coords)\n",
    "poly2 = Polygon(poly2_coords) \n",
    "print('poly and poly2 are equal: ', poly == poly2)"
   ]
  },
  {
   "cell_type": "code",
   "execution_count": null,
   "metadata": {
    "colab": {},
    "colab_type": "code",
    "id": "HLs1PwlAZDe7"
   },
   "outputs": [],
   "source": [
    "# there are some useful attributes and functions:\n",
    "x_min, y_min, x_max, y_max = poly.bounds # gives a tuple with the coordinates of a bounding rectangle: (x_min, y_min, x_max, y_max)"
   ]
  },
  {
   "cell_type": "code",
   "execution_count": null,
   "metadata": {
    "colab": {
     "base_uri": "https://localhost:8080/",
     "height": 288
    },
    "colab_type": "code",
    "id": "GOnrnxMYSaUD",
    "outputId": "8e1cfccf-93f8-43b7-9cd4-cc11f9943769"
   },
   "outputs": [],
   "source": [
    "# Plot a polygon\n",
    "fig = plt.figure()\n",
    "ax = fig.add_subplot(111)\n",
    "patch = PolygonPatch(poly2, fc='#FF6600', ec='black', alpha=0.8, linewidth=2) # arguments are PolygonPatch(shapely_polygon, fc=face_color, ec=edge_color, alpha=transparency, **kwargs)\n",
    "# PolygonPatch creates a matplotlib object, so the matplotlib kwargs will work in general to modify it\n",
    "ax.add_patch(patch) # puts the patch object on the axes\n",
    "ax.set(xlim=[x_min, x_max],ylim=[y_min,y_max]) # set limits at bounding polygon coordinates\n",
    "plt.show()"
   ]
  },
  {
   "cell_type": "markdown",
   "metadata": {
    "colab_type": "text",
    "id": "ixMmftPZV4rT"
   },
   "source": [
    "Polygon objects can have holes in them."
   ]
  },
  {
   "cell_type": "code",
   "execution_count": null,
   "metadata": {
    "colab": {},
    "colab_type": "code",
    "id": "ilw7HJgcV3sX"
   },
   "outputs": [],
   "source": [
    "\n",
    "# Let's create a big rectangle and put some holes in it\n",
    "\n",
    "# First we define our exterior\n",
    "poly_exterior = [(-180, 90), (-180, -90), (180, -90), (180, 90)]\n",
    "\n",
    "# Let's first create a single big hole \n",
    "# each hole is a list of coordinates.\n",
    "single_hole = [[(170, 80), (170, -80), (-170, -80), (-170, 80)]]\n",
    "# There can actually be multiple holes, so the holes should be lists of lists\n",
    "# hence the double square brackets [[]] for single_hole and double_hole\n",
    "double_hole = [[(100, 80), (100, -80), (-10, -20), (-10, 20)],[(-20, 30),(-125, -45),(-120, 40)]]\n",
    "\n",
    "# polygon without a hole\n",
    "poly_no_holes = Polygon(shell=poly_exterior)\n",
    "\n",
    "# polygons with holes\n",
    "poly_with_a_hole = Polygon(shell=poly_exterior, holes=single_hole)\n",
    "poly_with_holes = Polygon(shell=poly_exterior, holes=double_hole)\n",
    "\n"
   ]
  },
  {
   "cell_type": "code",
   "execution_count": null,
   "metadata": {
    "colab": {
     "base_uri": "https://localhost:8080/",
     "height": 288
    },
    "colab_type": "code",
    "id": "mU044pp6n0qJ",
    "outputId": "20a06ad3-301b-4027-84d4-4230195edc89"
   },
   "outputs": [],
   "source": [
    "fig = plt.figure()\n",
    "ax1 = fig.add_subplot(311)\n",
    "patch1 = PolygonPatch(poly_no_holes,fc='#1155FF',alpha=0.5)\n",
    "ax1.add_patch(patch1)\n",
    "ax1.set(xlim=[-185,185], ylim=[-95,95])\n",
    "\n",
    "ax2 = fig.add_subplot(312)\n",
    "patch2 = PolygonPatch(poly_with_a_hole,fc='#1155FF', ec='#FFFFFF',alpha=0.5)\n",
    "ax2.add_patch(patch2)\n",
    "ax2.set(xlim=[-185,185], ylim=[-95,95])\n",
    "\n",
    "ax3 = fig.add_subplot(313)\n",
    "patch3 = PolygonPatch(poly_with_holes,fc='#1155FF', ec='#FFFFFF',alpha=0.5)\n",
    "ax3.add_patch(patch3)\n",
    "ax3.set(xlim=[-185,185], ylim=[-95,95])"
   ]
  },
  {
   "cell_type": "markdown",
   "metadata": {
    "colab_type": "text",
    "id": "gDR2tiINsC3e"
   },
   "source": [
    "Note there are some constraints about the location of holes within polygons (what's allowed and not allowed). See [the shapely manual](https://shapely.readthedocs.io/en/latest/manual.html#polygons) for details.\n",
    "\n",
    "Also note that the order of the points which define a hole/polygon matter: If the polygon exterior points are listed counter-clockwise, then the hole should be clockwise (and vice versa). If you don't want to bother dealing with this, you can call\n",
    "```\n",
    "polygon_with_holes = shapely.geometry.polygon.orient(polygon_with_holes)\n",
    "```\n",
    "to orient it automatically."
   ]
  },
  {
   "cell_type": "code",
   "execution_count": null,
   "metadata": {
    "colab": {
     "base_uri": "https://localhost:8080/",
     "height": 288
    },
    "colab_type": "code",
    "id": "tio0HuRGsBlg",
    "outputId": "48f48a83-d076-46b8-f841-a2a51a54c4d4"
   },
   "outputs": [],
   "source": [
    "# let's try with the hole oriented incorrectly\n",
    "single_hole_backwards = [single_hole[0][::-1]] # [::-1] reverses the order of single_hole[0] (we have to use [0] because single_hole is a list of lists)\n",
    "# recall that the indexing notation `listname[idx_a:idx_b]` is shorthand for \"get elements of listname starting at idx_a, going up to (but not including) idx_b\"\n",
    "# Omitting `idx_a` means \"start at beginning\"; omitting `idx_b` means \"go until the end\"\n",
    "# furthermore, you can use `listname[idx_a:idx_b:step_size]` to get every \"step_size\"-th element\n",
    "# thus, the index [::-1] means \"all elements, but counting backwards by 1\"\n",
    "poly_with_bkw_hole = Polygon(shell=poly_exterior, holes=single_hole_backwards)\n",
    "fig = plt.figure()\n",
    "ax1 = fig.add_subplot(111)\n",
    "patch1 = PolygonPatch(poly_with_bkw_hole,fc='#1155FF',alpha=0.5)\n",
    "ax1.add_patch(patch1)\n",
    "ax1.set(xlim=[-185,185], ylim=[-95,95])\n",
    "# note that the hole is filled incorrectly (not actually a hole!)"
   ]
  },
  {
   "cell_type": "code",
   "execution_count": null,
   "metadata": {
    "colab": {
     "base_uri": "https://localhost:8080/",
     "height": 288
    },
    "colab_type": "code",
    "id": "Npd2eSvUuzdS",
    "outputId": "ac7a4e2c-2895-4bf0-ef81-80b9ac4aebff"
   },
   "outputs": [],
   "source": [
    "# fix it\n",
    "poly_with_bkw_hole = shapely.geometry.polygon.orient(poly_with_bkw_hole) # fix the orientation\n",
    "fig = plt.figure()\n",
    "ax1 = fig.add_subplot(111)\n",
    "patch1 = PolygonPatch(poly_with_bkw_hole,fc='#1155FF',alpha=0.5)\n",
    "ax1.add_patch(patch1)\n",
    "ax1.set(xlim=[-185,185], ylim=[-95,95])\n",
    "# all better!"
   ]
  },
  {
   "cell_type": "markdown",
   "metadata": {
    "colab_type": "text",
    "id": "EvTOT7RfuyAG"
   },
   "source": [
    "There are many functions associated with shapely objects which can help you create new shapes and do spatial analyses. We will go over a few of them, but you can check them all out in the [shapely manual](https://shapely.readthedocs.io/en/latest/manual.html#spatial-analysis-methods).\n",
    "\n",
    "`object.buffer(distance)` creates an object that encompasses all of the space `distance` beyond the current boundaries of `object`"
   ]
  },
  {
   "cell_type": "code",
   "execution_count": null,
   "metadata": {
    "colab": {
     "base_uri": "https://localhost:8080/",
     "height": 286
    },
    "colab_type": "code",
    "id": "KeCOsm0toMDK",
    "outputId": "4dbe2577-e0f7-462e-db5f-ce69655fc24a"
   },
   "outputs": [],
   "source": [
    "fig = plt.figure()\n",
    "ax1 = fig.add_subplot(111)\n",
    "patch1 = PolygonPatch(poly_with_holes,fc='#0000FF',alpha=1)\n",
    "poly_with_buffer = poly_with_holes.buffer(10)\n",
    "patch2 = PolygonPatch(poly_with_buffer,fc='#0055FF',alpha=0.5)\n",
    "p1 = ax1.add_patch(patch1)\n",
    "p2 = ax1.add_patch(patch2)\n",
    "ax1.set(xlim=[-200,200], ylim=[-110,110])\n",
    "ax1.legend({'original polygon':p1, 'buffered':p2},loc='best')\n"
   ]
  },
  {
   "cell_type": "code",
   "execution_count": null,
   "metadata": {
    "colab": {
     "base_uri": "https://localhost:8080/",
     "height": 121
    },
    "colab_type": "code",
    "id": "oCbxEaOTe5Kv",
    "outputId": "afe9c934-a726-4bf0-d707-5d64bbf4cbb3"
   },
   "outputs": [],
   "source": [
    "# you can create a circle using a point and buffer\n",
    "Point(1,1).buffer(10) # creates a point centered at 1,1 with radius 10"
   ]
  },
  {
   "cell_type": "code",
   "execution_count": null,
   "metadata": {
    "colab": {
     "base_uri": "https://localhost:8080/",
     "height": 286
    },
    "colab_type": "code",
    "id": "QTVO1v50d49y",
    "outputId": "6b281e9d-09ea-4c2a-e568-1028b365f322"
   },
   "outputs": [],
   "source": [
    "# a negative distance on a buffer can be used to erode a polygon\n",
    "fig = plt.figure()\n",
    "ax1 = fig.add_subplot(111)\n",
    "patch1 = PolygonPatch(poly_with_holes,fc='#0000FF',alpha=1)\n",
    "poly_eroded = poly_with_holes.buffer(-10)\n",
    "patch2 = PolygonPatch(poly_eroded,fc='#FF55AA',alpha=1)\n",
    "p1 = ax1.add_patch(patch1)\n",
    "p2 = ax1.add_patch(patch2)\n",
    "ax1.set(xlim=[-200,200], ylim=[-110,110])\n",
    "ax1.legend({'original polygon':p1, 'eroded':p2},loc='best')"
   ]
  },
  {
   "cell_type": "code",
   "execution_count": null,
   "metadata": {
    "colab": {
     "base_uri": "https://localhost:8080/",
     "height": 208
    },
    "colab_type": "code",
    "id": "EhRdZKYEqF35",
    "outputId": "c09c76ac-95a3-40cc-fcd1-15e4e986dbf9"
   },
   "outputs": [],
   "source": [
    "# get the outline of an object with .boundary\n",
    "poly_eroded.boundary"
   ]
  },
  {
   "cell_type": "code",
   "execution_count": null,
   "metadata": {
    "colab": {
     "base_uri": "https://localhost:8080/",
     "height": 34
    },
    "colab_type": "code",
    "id": "-t1DgfRUgTQ2",
    "outputId": "3b343aae-6278-4e88-86f4-3a67be0d2e32"
   },
   "outputs": [],
   "source": [
    "# length of the boundary\n",
    "poly_eroded.boundary.length"
   ]
  },
  {
   "cell_type": "code",
   "execution_count": null,
   "metadata": {
    "colab": {
     "base_uri": "https://localhost:8080/",
     "height": 34
    },
    "colab_type": "code",
    "id": "OEraGbQDe0y8",
    "outputId": "b207971c-ac84-4790-8dd8-44a28156753e"
   },
   "outputs": [],
   "source": [
    "# get the area of the shape\n",
    "poly_eroded.area"
   ]
  },
  {
   "cell_type": "markdown",
   "metadata": {},
   "source": [
    "### Exercise: Minimum bounding upright rectangle\n",
    "\n",
    "Often, it's useful to know the smallest possible upright rectangle (i.e. with sides parallel to the axes) that can be drawn around a polygon. So, in this exercise, you will do just that: given a polygon, plot its minimum bounding upright rectangle and return it."
   ]
  },
  {
   "cell_type": "code",
   "execution_count": null,
   "metadata": {},
   "outputs": [],
   "source": [
    "def getBoundingRectangle(poly):\n",
    "  \"\"\"\n",
    "  input: poly, Polygon - any valid shapely Polygon object\n",
    "  output: rect, Polygon - the minimum bounding upright rectangle\n",
    "  Also plot the input Polygon as well as the bounding rectangle itself\n",
    "  \"\"\"\n",
    "  # fill this in with your code\n",
    "  return rect"
   ]
  },
  {
   "cell_type": "markdown",
   "metadata": {},
   "source": [
    "_Tip: The `bounds` attribute of the polygon would be useful here.<br>\n",
    "Also, the Shapely `envelope` attribute, which will be mentioned later, calculates this; try to do it without using `envelope`._\n"
   ]
  },
  {
   "cell_type": "markdown",
   "metadata": {
    "colab_type": "text",
    "id": "hGKofT8HiYdj"
   },
   "source": [
    "## Geometry Collections\n",
    "Geometry collections are datatypes that store multiple geometry objects. Much like how lists store multiple individual objects in a larger data structure, geometry collections do the same with shapely objects."
   ]
  },
  {
   "cell_type": "code",
   "execution_count": null,
   "metadata": {
    "colab": {},
    "colab_type": "code",
    "id": "UBuR32YZiuQK"
   },
   "outputs": [],
   "source": [
    "# Import collections of geometric objects + bounding box\n",
    "from shapely.geometry import MultiPoint, MultiLineString, MultiPolygon, box\n"
   ]
  },
  {
   "cell_type": "code",
   "execution_count": null,
   "metadata": {
    "colab": {
     "base_uri": "https://localhost:8080/",
     "height": 121
    },
    "colab_type": "code",
    "id": "xQ0jXNe3iw8u",
    "outputId": "13309c84-5e5c-4d29-99e8-7b291c8f34e2"
   },
   "outputs": [],
   "source": [
    "# Create a MultiPoint object of our points 1,2 and 3\n",
    "multi_point = MultiPoint([point1, point2, point3])\n",
    "multi_point"
   ]
  },
  {
   "cell_type": "code",
   "execution_count": null,
   "metadata": {
    "colab": {
     "base_uri": "https://localhost:8080/",
     "height": 121
    },
    "colab_type": "code",
    "id": "4Z47GliyiznK",
    "outputId": "6741a825-ee59-4c6e-fd9b-5a1edc55c9ef"
   },
   "outputs": [],
   "source": [
    "# It is also possible to pass coordinate tuples inside\n",
    "multi_point2 = MultiPoint([(2.2, 4.2), (7.2, -25.1), (9.26, -2.456)])\n",
    "multi_point2"
   ]
  },
  {
   "cell_type": "code",
   "execution_count": null,
   "metadata": {
    "colab": {
     "base_uri": "https://localhost:8080/",
     "height": 121
    },
    "colab_type": "code",
    "id": "kKDijf4Ci7y_",
    "outputId": "e57d07ea-4ed9-4a66-ad06-4546c9963931"
   },
   "outputs": [],
   "source": [
    "# We can also create a MultiLineString with two lines\n",
    "line1 = LineString([point1, point2])\n",
    "line2 = LineString([point2, point3])\n",
    "multi_line = MultiLineString([line1, line2])\n",
    "multi_line"
   ]
  },
  {
   "cell_type": "code",
   "execution_count": null,
   "metadata": {
    "colab": {
     "base_uri": "https://localhost:8080/",
     "height": 121
    },
    "colab_type": "code",
    "id": "GUPxhXSSjAGC",
    "outputId": "e5db35bf-2795-4b8f-cac2-f984445a32fd"
   },
   "outputs": [],
   "source": [
    "# MultiPolygon can be done in a similar manner\n",
    "circle1 = Point(0,0).buffer(1)\n",
    "circle2 = Point(2,5).buffer(5)\n",
    "circle3 = Point(10,10).buffer(7)\n",
    "circle4 = Point(10,11).buffer(3)\n",
    "multi_circle = MultiPolygon([circle1, circle2, circle3, circle4])\n",
    "multi_circle"
   ]
  },
  {
   "cell_type": "code",
   "execution_count": null,
   "metadata": {
    "colab": {
     "base_uri": "https://localhost:8080/",
     "height": 34
    },
    "colab_type": "code",
    "id": "wZJXyXMjjFab",
    "outputId": "f47ce997-68b8-4e3b-ee1a-59b6ef2d0129"
   },
   "outputs": [],
   "source": []
  },
  {
   "cell_type": "markdown",
   "metadata": {
    "colab_type": "text",
    "id": "OEpI5p6vkpEj"
   },
   "source": [
    "## Geometric analysis\n",
    "Shapely includes a ton of useful functions to analyze [geometric relationships between shapes](https://shapely.readthedocs.io/en/latest/manual.html#predicates-and-relationships).\n",
    "\n",
    "For example, you can find whether one shape [contains](https://shapely.readthedocs.io/en/latest/manual.html#object.contains) the other within its interior; whether one object [crosses](https://shapely.readthedocs.io/en/latest/manual.html#object.crosses) or [overlaps](https://shapely.readthedocs.io/en/latest/manual.html#object.overlaps) another. _Note that these methods have very precise definitions. For example, `overlaps` and `intersects` are two distinct methods with subtle differences. Refer to the documentation to ensure that you're using the function that you actually want._"
   ]
  },
  {
   "cell_type": "code",
   "execution_count": null,
   "metadata": {
    "colab": {
     "base_uri": "https://localhost:8080/",
     "height": 34
    },
    "colab_type": "code",
    "id": "8vQ-gWOzjY1h",
    "outputId": "7caf7c72-2369-4821-9312-4364d85579e2"
   },
   "outputs": [],
   "source": [
    "# in order for two objects to cross, one must go all the way through the other\n",
    "circle3.crosses(circle4)"
   ]
  },
  {
   "cell_type": "code",
   "execution_count": null,
   "metadata": {
    "colab": {
     "base_uri": "https://localhost:8080/",
     "height": 34
    },
    "colab_type": "code",
    "id": "Uzl0lzvKmsv0",
    "outputId": "833953ab-bf9a-424d-97ca-6a068a41b4cb"
   },
   "outputs": [],
   "source": [
    "# intersect checks if any part of the interior of one object is in the other\n",
    "circle3.intersects(circle4)"
   ]
  },
  {
   "cell_type": "code",
   "execution_count": null,
   "metadata": {
    "colab": {
     "base_uri": "https://localhost:8080/",
     "height": 34
    },
    "colab_type": "code",
    "id": "w5LmTvd1auav",
    "outputId": "a60a0f88-e2b0-4d32-fff5-b8d3b7919ac0"
   },
   "outputs": [],
   "source": [
    "# overlap does not allow one object to fully contain the other\n",
    "circle3.overlaps(circle4)"
   ]
  },
  {
   "cell_type": "markdown",
   "metadata": {
    "colab_type": "text",
    "id": "Kyzqljxxbnsr"
   },
   "source": [
    "### Set theoretic functions\n",
    "You can use shapely to do set-theoretic operations, such as intersection, union, and difference."
   ]
  },
  {
   "cell_type": "code",
   "execution_count": null,
   "metadata": {
    "colab": {
     "base_uri": "https://localhost:8080/",
     "height": 121
    },
    "colab_type": "code",
    "id": "XGqRQRYtbU1U",
    "outputId": "b8fc6298-29cc-4a27-d99e-f4d584ba7be5"
   },
   "outputs": [],
   "source": [
    "# intersection represents the shape that is part of both objects (logical AND)\n",
    "circle2.intersection(circle3)"
   ]
  },
  {
   "cell_type": "code",
   "execution_count": null,
   "metadata": {
    "colab": {
     "base_uri": "https://localhost:8080/",
     "height": 121
    },
    "colab_type": "code",
    "id": "4HX8FQ-fbjoV",
    "outputId": "5759c34b-dd80-4d55-c897-33e9aab746ed"
   },
   "outputs": [],
   "source": [
    "# union is the shape that's part of either object (logical OR)\n",
    "circle2.union(circle3)"
   ]
  },
  {
   "cell_type": "code",
   "execution_count": null,
   "metadata": {
    "colab": {
     "base_uri": "https://localhost:8080/",
     "height": 121
    },
    "colab_type": "code",
    "id": "IPjEQZcscjMi",
    "outputId": "42652872-61e4-4995-b911-13ad51c40758"
   },
   "outputs": [],
   "source": [
    "# difference is the part of the shape of one object that's not in the other (logical AND NOT)\n",
    "circle3.difference(circle4)"
   ]
  },
  {
   "cell_type": "code",
   "execution_count": null,
   "metadata": {
    "colab": {
     "base_uri": "https://localhost:8080/",
     "height": 171
    },
    "colab_type": "code",
    "id": "YOOdLav3c1VB",
    "outputId": "2a84db09-f9b3-44bf-9468-4d306b6c22f7"
   },
   "outputs": [],
   "source": [
    "# note that the order of difference matters\n",
    "circle4.difference(circle3) # is empty because circle4 is entirely in circle3"
   ]
  },
  {
   "cell_type": "code",
   "execution_count": null,
   "metadata": {
    "colab": {
     "base_uri": "https://localhost:8080/",
     "height": 121
    },
    "colab_type": "code",
    "id": "4MWu-onec6Tw",
    "outputId": "dc666b59-40eb-4fec-9838-8010023fa9e0"
   },
   "outputs": [],
   "source": [
    "# symmetric difference is the opposite of intersection (logical XOR)\n",
    "circle3.symmetric_difference(circle2)"
   ]
  },
  {
   "cell_type": "code",
   "execution_count": null,
   "metadata": {
    "colab": {
     "base_uri": "https://localhost:8080/",
     "height": 121
    },
    "colab_type": "code",
    "id": "JWeC0CsHdP9g",
    "outputId": "d18feefe-f01c-4800-cb5b-2b11ef029b7d"
   },
   "outputs": [],
   "source": [
    "# appropriately, symmetric difference order doesn't matter\n",
    "circle2.symmetric_difference(circle3)"
   ]
  },
  {
   "cell_type": "markdown",
   "metadata": {
    "colab_type": "text",
    "id": "9c4-2XT2dvRP"
   },
   "source": [
    "### Constructive methods\n",
    "These methods create new objects not derived from set-theoretic analysis.\n",
    "\n",
    "We've already seen some, such as `.buffer()`."
   ]
  },
  {
   "cell_type": "code",
   "execution_count": null,
   "metadata": {
    "colab": {},
    "colab_type": "code",
    "id": "fZJoIzM2dpux"
   },
   "outputs": [],
   "source": [
    "# get the region around a line\n",
    "buffered_line = LineString([(0,0),(5,5),(-1,5)]).buffer(1)\n",
    "buffered_line"
   ]
  },
  {
   "cell_type": "code",
   "execution_count": null,
   "metadata": {
    "colab": {
     "base_uri": "https://localhost:8080/",
     "height": 121
    },
    "colab_type": "code",
    "id": "9AD9YIp_eHSJ",
    "outputId": "36612170-f135-482f-ed51-459d521ca079"
   },
   "outputs": [],
   "source": [
    "# convex hull is the smallest convex polygon with contains all the points in the objects\n",
    "buffered_line.convex_hull\n",
    "# convex hull can be thought of the shape that a rubber band would make if you wrapped it around the outside of the object"
   ]
  },
  {
   "cell_type": "code",
   "execution_count": null,
   "metadata": {
    "colab": {
     "base_uri": "https://localhost:8080/",
     "height": 121
    },
    "colab_type": "code",
    "id": "HKIoDpokejqI",
    "outputId": "55387792-f5db-4d3e-9080-9bb27e2b0e7d"
   },
   "outputs": [],
   "source": [
    "# can work on points also\n",
    "point4 = Point(20,-30)\n",
    "MultiPoint([point1, point2, point3, point4])"
   ]
  },
  {
   "cell_type": "code",
   "execution_count": null,
   "metadata": {
    "colab": {
     "base_uri": "https://localhost:8080/",
     "height": 121
    },
    "colab_type": "code",
    "id": "DgDCY7lcfjOu",
    "outputId": "5e8fbea7-5a54-413d-e542-dbffffee0aed"
   },
   "outputs": [],
   "source": [
    "MultiPoint([point1, point2, point3, point4]).convex_hull"
   ]
  },
  {
   "cell_type": "code",
   "execution_count": null,
   "metadata": {
    "colab": {
     "base_uri": "https://localhost:8080/",
     "height": 121
    },
    "colab_type": "code",
    "id": "-uTr_9ixe8VS",
    "outputId": "ecd28cf4-1dc0-44f9-a988-1e4e2a8f731d"
   },
   "outputs": [],
   "source": [
    "# envelope finds the smallest upright rectangle that contains the object\n",
    "MultiPoint([point1, point2, point3, point4]).envelope"
   ]
  },
  {
   "cell_type": "code",
   "execution_count": null,
   "metadata": {
    "colab": {
     "base_uri": "https://localhost:8080/",
     "height": 121
    },
    "colab_type": "code",
    "id": "jzkfqkKzfevw",
    "outputId": "6be37e89-6b5a-49e4-cd88-30b4bf0046e7"
   },
   "outputs": [],
   "source": [
    "# minimum_rotated_rectangle allows for tilted rectangles\n",
    "MultiPoint([point1, point2, point3, point4]).minimum_rotated_rectangle"
   ]
  },
  {
   "cell_type": "code",
   "execution_count": null,
   "metadata": {
    "colab": {
     "base_uri": "https://localhost:8080/",
     "height": 286
    },
    "colab_type": "code",
    "id": "aHtcR2S5f0tk",
    "outputId": "35b16768-6dc0-4e08-dae4-031af427ba64"
   },
   "outputs": [],
   "source": [
    "# parallel_offset creates a linestring that's a fixed distance from an object on left or right side\n",
    "original_line = LineString([(0,0),(5,5),(-1,5)])\n",
    "offset_line_left = original_line.parallel_offset(1,'left')\n",
    "offset_line_right_round = original_line.parallel_offset(1,'right',join_style=1)\n",
    "offset_line_right_sharp = original_line.parallel_offset(2,'right',join_style=2)\n",
    "offset_line_right_flat = original_line.parallel_offset(3,'right',join_style=3)\n",
    "plt.plot(original_line.xy[0], original_line.xy[1],'black')\n",
    "plt.plot(offset_line_left.xy[0], offset_line_left.xy[1],'red')\n",
    "plt.plot(offset_line_right_round.xy[0], offset_line_right_round.xy[1],'blue')\n",
    "plt.plot(offset_line_right_sharp.xy[0], offset_line_right_sharp.xy[1],'#AA33FF')\n",
    "plt.plot(offset_line_right_flat.xy[0], offset_line_right_flat.xy[1],'#33AAFF')\n"
   ]
  },
  {
   "cell_type": "markdown",
   "metadata": {
    "colab_type": "text",
    "id": "cVqYrJ7lhWzP"
   },
   "source": [
    "Join styles are documented [here](https://shapely.readthedocs.io/en/latest/manual.html#shapely.geometry.JOIN_STYLE)."
   ]
  },
  {
   "cell_type": "code",
   "execution_count": null,
   "metadata": {
    "colab": {},
    "colab_type": "code",
    "id": "UcMwFi0VjHfP"
   },
   "outputs": [],
   "source": [
    "from shapely.affinity import affine_transform, rotate, skew, scale, translate"
   ]
  },
  {
   "cell_type": "markdown",
   "metadata": {
    "colab_type": "text",
    "id": "N3689DAtjqlC"
   },
   "source": [
    "`affine_transform` is very powerful, but it can be complicated to figure out the parameters by hand. Fortunately, common transformations have built-in functions:\n",
    "- [rotate](https://shapely.readthedocs.io/en/latest/manual.html#shapely.affinity.rotate)\n",
    "- [scale](https://shapely.readthedocs.io/en/latest/manual.html#shapely.affinity.scale)\n",
    "- [skew](https://shapely.readthedocs.io/en/latest/manual.html#shapely.affinity.skew)\n",
    "- [translate](https://shapely.readthedocs.io/en/latest/manual.html#shapely.affinity.translate)"
   ]
  },
  {
   "cell_type": "code",
   "execution_count": null,
   "metadata": {
    "colab": {
     "base_uri": "https://localhost:8080/",
     "height": 121
    },
    "colab_type": "code",
    "id": "2luh8t5TjrCu",
    "outputId": "68879d0a-7b34-43f4-f9c1-fb31c5925e22"
   },
   "outputs": [],
   "source": [
    "rect = Polygon([(0,0),(1,0),(1,2),(0,2)])\n",
    "rect"
   ]
  },
  {
   "cell_type": "code",
   "execution_count": null,
   "metadata": {
    "colab": {
     "base_uri": "https://localhost:8080/",
     "height": 121
    },
    "colab_type": "code",
    "id": "ZznSV4QbsSqq",
    "outputId": "a5103f20-7c19-4481-bccc-96aa1d87cc0a"
   },
   "outputs": [],
   "source": [
    "#rotate square by 45 degrees counter-clockwise (right hand rule determines direction)\n",
    "rotate(rect,45) "
   ]
  },
  {
   "cell_type": "code",
   "execution_count": null,
   "metadata": {
    "colab": {},
    "colab_type": "code",
    "id": "DOuJCsfwsV4p"
   },
   "outputs": [],
   "source": [
    "skew(rect, 45)"
   ]
  },
  {
   "cell_type": "markdown",
   "metadata": {
    "colab_type": "text",
    "id": "DbqVTa8wss86"
   },
   "source": [
    "The usage for skew is:\n",
    "\n",
    "`shapely.affinity.skew(geom, xs=0.0, ys=0.0, origin='center', use_radians=False)`\n",
    "\n",
    "where `xs` is the skew in the x direct, and `ys` is in the y direction"
   ]
  },
  {
   "cell_type": "markdown",
   "metadata": {
    "colab_type": "text",
    "id": "wbyp8QS7ne-Q"
   },
   "source": [
    "# Exercises"
   ]
  },
  {
   "cell_type": "markdown",
   "metadata": {
    "colab_type": "text",
    "id": "ouuSmdSenmaq"
   },
   "source": [
    "## Visualizing hurricane cone of uncertainty\n",
    "\n",
    "This is a common way of visualizing the possible hurricane paths. Thousands of simulations are run to forecast where the hurricane might be for each time step in the future. The larger circles the further out into the future we go represent the greater uncertainty about where the hurricane might be (not the actual size or power of the hurricane).\n",
    "\n",
    "![hurricane cone](https://www.weathernationtv.com/app/uploads/2016/10/C-Path-e1475672445449.jpg)\n",
    "\n",
    "In this exercise, you'll be given a set of forecasted locations for each time step in the future. Your job is to create an object that joins them together to create this style of continuous cone."
   ]
  },
  {
   "cell_type": "code",
   "execution_count": null,
   "metadata": {
    "colab": {
     "base_uri": "https://localhost:8080/",
     "height": 121
    },
    "colab_type": "code",
    "id": "eJicVDEDkn_h",
    "outputId": "6100e17c-bdda-4b3b-d1a3-ce0501502ac9"
   },
   "outputs": [],
   "source": [
    "forecast1 = Point(0,0).buffer(0.3)\n",
    "forecast2 = Point(-1,1.3).buffer(0.5)\n",
    "forecast3 = Point(-2.2,2.4).buffer(1)\n",
    "forecast4 = Point(-2.5,4.6).buffer(1.5)\n",
    "forecast5 = Point(-1,8.1).buffer(2.2)\n",
    "forecast6 = Point(3,8.5).buffer(2.6)\n",
    "\n",
    "all_forecasts = MultiPolygon([forecast1,\n",
    "                              forecast2,\n",
    "                              forecast3,\n",
    "                              forecast4,\n",
    "                              forecast5,\n",
    "                              forecast6])\n",
    "all_forecasts"
   ]
  },
  {
   "cell_type": "markdown",
   "metadata": {
    "colab_type": "text",
    "id": "8xOoXITQraJA"
   },
   "source": [
    "## Creating common logos\n",
    "Many logos and designs are made of simple geometric shapes. For example, Twitter's is entirely made from circles of different diameters.\n",
    "![alt text](https://shkspr.mobi/blog/wp-content/uploads/2017/05/TwitterCircles.jpg)\n",
    "\n",
    "Find an interesting logo that can be made with geometric shapes. Create it using shapely and plot it using matplotlib. As a bonus, try to match the colors as well!"
   ]
  },
  {
   "cell_type": "code",
   "execution_count": null,
   "metadata": {
    "colab": {},
    "colab_type": "code",
    "id": "ZVTECCzUsCgl"
   },
   "outputs": [],
   "source": []
  }
 ],
 "metadata": {
  "colab": {
   "collapsed_sections": [],
   "include_colab_link": true,
   "name": "02_Visualization_and_Shapes.ipynb",
   "provenance": [],
   "version": "0.3.2"
  },
  "kernelspec": {
   "display_name": "Python 3 (ipykernel)",
   "language": "python",
   "name": "python3"
  },
  "language_info": {
   "codemirror_mode": {
    "name": "ipython",
    "version": 3
   },
   "file_extension": ".py",
   "mimetype": "text/x-python",
   "name": "python",
   "nbconvert_exporter": "python",
   "pygments_lexer": "ipython3",
   "version": "3.11.4"
  }
 },
 "nbformat": 4,
 "nbformat_minor": 4
}
